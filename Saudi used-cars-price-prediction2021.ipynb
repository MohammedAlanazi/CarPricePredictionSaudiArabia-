{
 "cells": [
  {
   "cell_type": "markdown",
   "metadata": {},
   "source": [
    "# What Problem We Have and Which Metric to Use?\n",
    "\n",
    "1-Based on the data and data dictionary, We have prediction / regression problem.\n"
   ]
  },
  {
   "cell_type": "markdown",
   "metadata": {},
   "source": [
    "2-We wil make prediction on the target variable PRICE\n",
    "\n"
   ]
  },
  {
   "cell_type": "markdown",
   "metadata": {},
   "source": [
    "3-And we will build a model to get best prediction on the price variable."
   ]
  },
  {
   "cell_type": "code",
   "execution_count": 684,
   "metadata": {
    "_cell_guid": "b1076dfc-b9ad-4769-8c92-a6c4dae69d19",
    "_uuid": "8f2839f25d086af736a60e9eeb907d3b93b6e0e5",
    "execution": {
     "iopub.execute_input": "2020-08-12T08:45:17.931592Z",
     "iopub.status.busy": "2020-08-12T08:45:17.930738Z",
     "iopub.status.idle": "2020-08-12T08:45:19.573430Z",
     "shell.execute_reply": "2020-08-12T08:45:19.572424Z"
    },
    "papermill": {
     "duration": 1.677244,
     "end_time": "2020-08-12T08:45:19.573589",
     "exception": false,
     "start_time": "2020-08-12T08:45:17.896345",
     "status": "completed"
    },
    "tags": []
   },
   "outputs": [],
   "source": [
    "# import libraries\n",
    "import numpy as np\n",
    "import pandas as pd\n",
    "import matplotlib.pyplot as plt\n",
    "import seaborn as sns\n",
    "%matplotlib inline\n",
    "\n"
   ]
  },
  {
   "cell_type": "markdown",
   "metadata": {},
   "source": [
    "# The solution is divided into the following sections:\n",
    "Data understanding and exploration\n",
    "Data cleaning\n",
    "Data preparation\n",
    "Model building and evaluation"
   ]
  },
  {
   "cell_type": "markdown",
   "metadata": {},
   "source": [
    "The column“Price” is the target variable and rest of the columns are independent variables.\n",
    "The independent variables are again divided into Categorical and Numerical variables."
   ]
  },
  {
   "cell_type": "code",
   "execution_count": 685,
   "metadata": {},
   "outputs": [
    {
     "data": {
      "text/html": [
       "<div>\n",
       "<style scoped>\n",
       "    .dataframe tbody tr th:only-of-type {\n",
       "        vertical-align: middle;\n",
       "    }\n",
       "\n",
       "    .dataframe tbody tr th {\n",
       "        vertical-align: top;\n",
       "    }\n",
       "\n",
       "    .dataframe thead th {\n",
       "        text-align: right;\n",
       "    }\n",
       "</style>\n",
       "<table border=\"1\" class=\"dataframe\">\n",
       "  <thead>\n",
       "    <tr style=\"text-align: right;\">\n",
       "      <th></th>\n",
       "      <th>Make</th>\n",
       "      <th>Type</th>\n",
       "      <th>Year</th>\n",
       "      <th>Origin</th>\n",
       "      <th>Options</th>\n",
       "      <th>Gear_Type</th>\n",
       "      <th>Mileage</th>\n",
       "      <th>Region</th>\n",
       "      <th>Price</th>\n",
       "    </tr>\n",
       "  </thead>\n",
       "  <tbody>\n",
       "    <tr>\n",
       "      <th>0</th>\n",
       "      <td>Chrysler</td>\n",
       "      <td>C300</td>\n",
       "      <td>2018</td>\n",
       "      <td>Saudi</td>\n",
       "      <td>Full</td>\n",
       "      <td>Automatic</td>\n",
       "      <td>103000</td>\n",
       "      <td>Riyadh</td>\n",
       "      <td>114000</td>\n",
       "    </tr>\n",
       "    <tr>\n",
       "      <th>1</th>\n",
       "      <td>Nissan</td>\n",
       "      <td>Patrol</td>\n",
       "      <td>2016</td>\n",
       "      <td>Saudi</td>\n",
       "      <td>Full</td>\n",
       "      <td>Automatic</td>\n",
       "      <td>5448</td>\n",
       "      <td>Riyadh</td>\n",
       "      <td>0</td>\n",
       "    </tr>\n",
       "    <tr>\n",
       "      <th>2</th>\n",
       "      <td>Nissan</td>\n",
       "      <td>Sunny</td>\n",
       "      <td>2019</td>\n",
       "      <td>Saudi</td>\n",
       "      <td>Standard</td>\n",
       "      <td>Automatic</td>\n",
       "      <td>72418</td>\n",
       "      <td>Riyadh</td>\n",
       "      <td>27500</td>\n",
       "    </tr>\n",
       "    <tr>\n",
       "      <th>3</th>\n",
       "      <td>Hyundai</td>\n",
       "      <td>Elantra</td>\n",
       "      <td>2019</td>\n",
       "      <td>Saudi</td>\n",
       "      <td>Standard</td>\n",
       "      <td>Automatic</td>\n",
       "      <td>114154</td>\n",
       "      <td>Riyadh</td>\n",
       "      <td>43000</td>\n",
       "    </tr>\n",
       "    <tr>\n",
       "      <th>4</th>\n",
       "      <td>Hyundai</td>\n",
       "      <td>Elantra</td>\n",
       "      <td>2019</td>\n",
       "      <td>Saudi</td>\n",
       "      <td>Semi Full</td>\n",
       "      <td>Automatic</td>\n",
       "      <td>41912</td>\n",
       "      <td>Riyadh</td>\n",
       "      <td>59500</td>\n",
       "    </tr>\n",
       "  </tbody>\n",
       "</table>\n",
       "</div>"
      ],
      "text/plain": [
       "       Make     Type  Year Origin    Options  Gear_Type  Mileage  Region  \\\n",
       "0  Chrysler     C300  2018  Saudi       Full  Automatic   103000  Riyadh   \n",
       "1    Nissan   Patrol  2016  Saudi       Full  Automatic     5448  Riyadh   \n",
       "2    Nissan    Sunny  2019  Saudi   Standard  Automatic    72418  Riyadh   \n",
       "3   Hyundai  Elantra  2019  Saudi   Standard  Automatic   114154  Riyadh   \n",
       "4   Hyundai  Elantra  2019  Saudi  Semi Full  Automatic    41912  Riyadh   \n",
       "\n",
       "    Price  \n",
       "0  114000  \n",
       "1       0  \n",
       "2   27500  \n",
       "3   43000  \n",
       "4   59500  "
      ]
     },
     "execution_count": 685,
     "metadata": {},
     "output_type": "execute_result"
    }
   ],
   "source": [
    "##Loading and Reading Data\n",
    "cars = pd.read_csv('Data.csv')\n",
    "cars.head()"
   ]
  },
  {
   "cell_type": "code",
   "execution_count": 686,
   "metadata": {},
   "outputs": [
    {
     "name": "stdout",
     "output_type": "stream",
     "text": [
      "Rows     :  8035\n",
      "Columns  :  9\n"
     ]
    }
   ],
   "source": [
    "print (\"Rows     : \" ,cars.shape[0])  #get number of rows/observations\n",
    "print (\"Columns  : \" , cars.shape[1]) #get number of columns\n",
    "   "
   ]
  },
  {
   "cell_type": "code",
   "execution_count": 687,
   "metadata": {},
   "outputs": [
    {
     "data": {
      "text/html": [
       "<div>\n",
       "<style scoped>\n",
       "    .dataframe tbody tr th:only-of-type {\n",
       "        vertical-align: middle;\n",
       "    }\n",
       "\n",
       "    .dataframe tbody tr th {\n",
       "        vertical-align: top;\n",
       "    }\n",
       "\n",
       "    .dataframe thead th {\n",
       "        text-align: right;\n",
       "    }\n",
       "</style>\n",
       "<table border=\"1\" class=\"dataframe\">\n",
       "  <thead>\n",
       "    <tr style=\"text-align: right;\">\n",
       "      <th></th>\n",
       "      <th>Make</th>\n",
       "      <th>Type</th>\n",
       "      <th>Year</th>\n",
       "      <th>Origin</th>\n",
       "      <th>Options</th>\n",
       "      <th>Gear_Type</th>\n",
       "      <th>Mileage</th>\n",
       "      <th>Region</th>\n",
       "      <th>Price</th>\n",
       "    </tr>\n",
       "  </thead>\n",
       "  <tbody>\n",
       "    <tr>\n",
       "      <th>0</th>\n",
       "      <td>Chrysler</td>\n",
       "      <td>C300</td>\n",
       "      <td>2018</td>\n",
       "      <td>Saudi</td>\n",
       "      <td>Full</td>\n",
       "      <td>Automatic</td>\n",
       "      <td>103000</td>\n",
       "      <td>Riyadh</td>\n",
       "      <td>114000</td>\n",
       "    </tr>\n",
       "    <tr>\n",
       "      <th>1</th>\n",
       "      <td>Nissan</td>\n",
       "      <td>Patrol</td>\n",
       "      <td>2016</td>\n",
       "      <td>Saudi</td>\n",
       "      <td>Full</td>\n",
       "      <td>Automatic</td>\n",
       "      <td>5448</td>\n",
       "      <td>Riyadh</td>\n",
       "      <td>0</td>\n",
       "    </tr>\n",
       "    <tr>\n",
       "      <th>2</th>\n",
       "      <td>Nissan</td>\n",
       "      <td>Sunny</td>\n",
       "      <td>2019</td>\n",
       "      <td>Saudi</td>\n",
       "      <td>Standard</td>\n",
       "      <td>Automatic</td>\n",
       "      <td>72418</td>\n",
       "      <td>Riyadh</td>\n",
       "      <td>27500</td>\n",
       "    </tr>\n",
       "    <tr>\n",
       "      <th>3</th>\n",
       "      <td>Hyundai</td>\n",
       "      <td>Elantra</td>\n",
       "      <td>2019</td>\n",
       "      <td>Saudi</td>\n",
       "      <td>Standard</td>\n",
       "      <td>Automatic</td>\n",
       "      <td>114154</td>\n",
       "      <td>Riyadh</td>\n",
       "      <td>43000</td>\n",
       "    </tr>\n",
       "    <tr>\n",
       "      <th>4</th>\n",
       "      <td>Hyundai</td>\n",
       "      <td>Elantra</td>\n",
       "      <td>2019</td>\n",
       "      <td>Saudi</td>\n",
       "      <td>Semi Full</td>\n",
       "      <td>Automatic</td>\n",
       "      <td>41912</td>\n",
       "      <td>Riyadh</td>\n",
       "      <td>59500</td>\n",
       "    </tr>\n",
       "  </tbody>\n",
       "</table>\n",
       "</div>"
      ],
      "text/plain": [
       "       Make     Type  Year Origin    Options  Gear_Type  Mileage  Region  \\\n",
       "0  Chrysler     C300  2018  Saudi       Full  Automatic   103000  Riyadh   \n",
       "1    Nissan   Patrol  2016  Saudi       Full  Automatic     5448  Riyadh   \n",
       "2    Nissan    Sunny  2019  Saudi   Standard  Automatic    72418  Riyadh   \n",
       "3   Hyundai  Elantra  2019  Saudi   Standard  Automatic   114154  Riyadh   \n",
       "4   Hyundai  Elantra  2019  Saudi  Semi Full  Automatic    41912  Riyadh   \n",
       "\n",
       "    Price  \n",
       "0  114000  \n",
       "1       0  \n",
       "2   27500  \n",
       "3   43000  \n",
       "4   59500  "
      ]
     },
     "execution_count": 687,
     "metadata": {},
     "output_type": "execute_result"
    }
   ],
   "source": [
    "cars.head()"
   ]
  },
  {
   "cell_type": "code",
   "execution_count": 688,
   "metadata": {},
   "outputs": [
    {
     "data": {
      "text/html": [
       "<div>\n",
       "<style scoped>\n",
       "    .dataframe tbody tr th:only-of-type {\n",
       "        vertical-align: middle;\n",
       "    }\n",
       "\n",
       "    .dataframe tbody tr th {\n",
       "        vertical-align: top;\n",
       "    }\n",
       "\n",
       "    .dataframe thead th {\n",
       "        text-align: right;\n",
       "    }\n",
       "</style>\n",
       "<table border=\"1\" class=\"dataframe\">\n",
       "  <thead>\n",
       "    <tr style=\"text-align: right;\">\n",
       "      <th></th>\n",
       "      <th>Make</th>\n",
       "      <th>Type</th>\n",
       "      <th>Year</th>\n",
       "      <th>Origin</th>\n",
       "      <th>Options</th>\n",
       "      <th>Gear_Type</th>\n",
       "      <th>Mileage</th>\n",
       "      <th>Region</th>\n",
       "      <th>Price</th>\n",
       "    </tr>\n",
       "  </thead>\n",
       "  <tbody>\n",
       "    <tr>\n",
       "      <th>8030</th>\n",
       "      <td>Audi</td>\n",
       "      <td>A6</td>\n",
       "      <td>2015</td>\n",
       "      <td>Saudi</td>\n",
       "      <td>Full</td>\n",
       "      <td>Automatic</td>\n",
       "      <td>77000</td>\n",
       "      <td>Riyadh</td>\n",
       "      <td>75000</td>\n",
       "    </tr>\n",
       "    <tr>\n",
       "      <th>8031</th>\n",
       "      <td>Chevrolet</td>\n",
       "      <td>Camaro</td>\n",
       "      <td>2010</td>\n",
       "      <td>Saudi</td>\n",
       "      <td>Full</td>\n",
       "      <td>Automatic</td>\n",
       "      <td>150000</td>\n",
       "      <td>Riyadh</td>\n",
       "      <td>53000</td>\n",
       "    </tr>\n",
       "    <tr>\n",
       "      <th>8032</th>\n",
       "      <td>Toyota</td>\n",
       "      <td>Land Cruiser</td>\n",
       "      <td>2013</td>\n",
       "      <td>Gulf Arabic</td>\n",
       "      <td>Full</td>\n",
       "      <td>Automatic</td>\n",
       "      <td>260</td>\n",
       "      <td>Najran</td>\n",
       "      <td>0</td>\n",
       "    </tr>\n",
       "    <tr>\n",
       "      <th>8033</th>\n",
       "      <td>Nissan</td>\n",
       "      <td>Altima</td>\n",
       "      <td>2011</td>\n",
       "      <td>Saudi</td>\n",
       "      <td>Full</td>\n",
       "      <td>Automatic</td>\n",
       "      <td>18500</td>\n",
       "      <td>Aseer</td>\n",
       "      <td>22000</td>\n",
       "    </tr>\n",
       "    <tr>\n",
       "      <th>8034</th>\n",
       "      <td>Cadillac</td>\n",
       "      <td>Other</td>\n",
       "      <td>2013</td>\n",
       "      <td>Saudi</td>\n",
       "      <td>Full</td>\n",
       "      <td>Automatic</td>\n",
       "      <td>256000</td>\n",
       "      <td>Al-Medina</td>\n",
       "      <td>40000</td>\n",
       "    </tr>\n",
       "  </tbody>\n",
       "</table>\n",
       "</div>"
      ],
      "text/plain": [
       "           Make          Type  Year       Origin Options  Gear_Type  Mileage  \\\n",
       "8030       Audi            A6  2015        Saudi    Full  Automatic    77000   \n",
       "8031  Chevrolet        Camaro  2010        Saudi    Full  Automatic   150000   \n",
       "8032     Toyota  Land Cruiser  2013  Gulf Arabic    Full  Automatic      260   \n",
       "8033     Nissan        Altima  2011        Saudi    Full  Automatic    18500   \n",
       "8034   Cadillac         Other  2013        Saudi    Full  Automatic   256000   \n",
       "\n",
       "         Region  Price  \n",
       "8030     Riyadh  75000  \n",
       "8031     Riyadh  53000  \n",
       "8032     Najran      0  \n",
       "8033      Aseer  22000  \n",
       "8034  Al-Medina  40000  "
      ]
     },
     "execution_count": 688,
     "metadata": {},
     "output_type": "execute_result"
    }
   ],
   "source": [
    "cars.tail()"
   ]
  },
  {
   "cell_type": "code",
   "execution_count": 689,
   "metadata": {
    "execution": {
     "iopub.execute_input": "2020-08-12T08:45:20.421796Z",
     "iopub.status.busy": "2020-08-12T08:45:20.420574Z",
     "iopub.status.idle": "2020-08-12T08:45:20.426682Z",
     "shell.execute_reply": "2020-08-12T08:45:20.425886Z"
    },
    "papermill": {
     "duration": 0.036517,
     "end_time": "2020-08-12T08:45:20.426830",
     "exception": false,
     "start_time": "2020-08-12T08:45:20.390313",
     "status": "completed"
    },
    "tags": []
   },
   "outputs": [
    {
     "data": {
      "text/plain": [
       "Index(['Make', 'Type', 'Year', 'Origin', 'Options', 'Gear_Type', 'Mileage',\n",
       "       'Region', 'Price'],\n",
       "      dtype='object')"
      ]
     },
     "execution_count": 689,
     "metadata": {},
     "output_type": "execute_result"
    }
   ],
   "source": [
    "cars.columns"
   ]
  },
  {
   "cell_type": "code",
   "execution_count": 690,
   "metadata": {
    "execution": {
     "iopub.execute_input": "2020-08-12T08:45:20.492063Z",
     "iopub.status.busy": "2020-08-12T08:45:20.490287Z",
     "iopub.status.idle": "2020-08-12T08:45:20.505662Z",
     "shell.execute_reply": "2020-08-12T08:45:20.504598Z"
    },
    "papermill": {
     "duration": 0.050275,
     "end_time": "2020-08-12T08:45:20.505868",
     "exception": false,
     "start_time": "2020-08-12T08:45:20.455593",
     "status": "completed"
    },
    "tags": []
   },
   "outputs": [
    {
     "data": {
      "text/plain": [
       "Make         object\n",
       "Type         object\n",
       "Year          int64\n",
       "Origin       object\n",
       "Options      object\n",
       "Gear_Type    object\n",
       "Mileage       int64\n",
       "Region       object\n",
       "Price         int64\n",
       "dtype: object"
      ]
     },
     "execution_count": 690,
     "metadata": {},
     "output_type": "execute_result"
    }
   ],
   "source": [
    "cars.dtypes"
   ]
  },
  {
   "cell_type": "code",
   "execution_count": 691,
   "metadata": {},
   "outputs": [],
   "source": [
    "cars_backup = cars.copy()"
   ]
  },
  {
   "cell_type": "code",
   "execution_count": 692,
   "metadata": {},
   "outputs": [
    {
     "data": {
      "text/plain": [
       "<AxesSubplot:>"
      ]
     },
     "execution_count": 692,
     "metadata": {},
     "output_type": "execute_result"
    },
    {
     "data": {
      "image/png": "[encoded data removed]",
      "text/plain": [
       "<Figure size 432x288 with 1 Axes>"
      ]
     },
     "metadata": {
      "needs_background": "light"
     },
     "output_type": "display_data"
    }
   ],
   "source": [
    "#Data Cleaning: Cleaning Strings in Column and values\n",
    "missing= pd.isnull(cars)\n",
    "missing_ratio= missing.sum()/len(missing)\n",
    "missing_ratio.hist(bins=100)"
   ]
  },
  {
   "cell_type": "markdown",
   "metadata": {},
   "source": [
    "No missing values and no duplicates.\n"
   ]
  },
  {
   "cell_type": "code",
   "execution_count": 693,
   "metadata": {
    "execution": {
     "iopub.execute_input": "2020-08-12T08:45:20.297895Z",
     "iopub.status.busy": "2020-08-12T08:45:20.296642Z",
     "iopub.status.idle": "2020-08-12T08:45:20.366243Z",
     "shell.execute_reply": "2020-08-12T08:45:20.365565Z"
    },
    "papermill": {
     "duration": 0.108252,
     "end_time": "2020-08-12T08:45:20.366379",
     "exception": false,
     "start_time": "2020-08-12T08:45:20.258127",
     "status": "completed"
    },
    "tags": []
   },
   "outputs": [
    {
     "data": {
      "text/html": [
       "<div>\n",
       "<style scoped>\n",
       "    .dataframe tbody tr th:only-of-type {\n",
       "        vertical-align: middle;\n",
       "    }\n",
       "\n",
       "    .dataframe tbody tr th {\n",
       "        vertical-align: top;\n",
       "    }\n",
       "\n",
       "    .dataframe thead th {\n",
       "        text-align: right;\n",
       "    }\n",
       "</style>\n",
       "<table border=\"1\" class=\"dataframe\">\n",
       "  <thead>\n",
       "    <tr style=\"text-align: right;\">\n",
       "      <th></th>\n",
       "      <th>Year</th>\n",
       "      <th>Mileage</th>\n",
       "      <th>Price</th>\n",
       "    </tr>\n",
       "  </thead>\n",
       "  <tbody>\n",
       "    <tr>\n",
       "      <th>count</th>\n",
       "      <td>8035.000000</td>\n",
       "      <td>8.035000e+03</td>\n",
       "      <td>8.035000e+03</td>\n",
       "    </tr>\n",
       "    <tr>\n",
       "      <th>mean</th>\n",
       "      <td>2014.097698</td>\n",
       "      <td>1.491488e+05</td>\n",
       "      <td>5.369984e+04</td>\n",
       "    </tr>\n",
       "    <tr>\n",
       "      <th>std</th>\n",
       "      <td>5.757228</td>\n",
       "      <td>3.474480e+05</td>\n",
       "      <td>7.198472e+04</td>\n",
       "    </tr>\n",
       "    <tr>\n",
       "      <th>min</th>\n",
       "      <td>1963.000000</td>\n",
       "      <td>1.000000e+02</td>\n",
       "      <td>0.000000e+00</td>\n",
       "    </tr>\n",
       "    <tr>\n",
       "      <th>25%</th>\n",
       "      <td>2012.000000</td>\n",
       "      <td>3.700000e+04</td>\n",
       "      <td>0.000000e+00</td>\n",
       "    </tr>\n",
       "    <tr>\n",
       "      <th>50%</th>\n",
       "      <td>2016.000000</td>\n",
       "      <td>1.019600e+05</td>\n",
       "      <td>3.700000e+04</td>\n",
       "    </tr>\n",
       "    <tr>\n",
       "      <th>75%</th>\n",
       "      <td>2018.000000</td>\n",
       "      <td>1.950000e+05</td>\n",
       "      <td>7.375000e+04</td>\n",
       "    </tr>\n",
       "    <tr>\n",
       "      <th>max</th>\n",
       "      <td>2022.000000</td>\n",
       "      <td>2.000000e+07</td>\n",
       "      <td>1.150000e+06</td>\n",
       "    </tr>\n",
       "  </tbody>\n",
       "</table>\n",
       "</div>"
      ],
      "text/plain": [
       "              Year       Mileage         Price\n",
       "count  8035.000000  8.035000e+03  8.035000e+03\n",
       "mean   2014.097698  1.491488e+05  5.369984e+04\n",
       "std       5.757228  3.474480e+05  7.198472e+04\n",
       "min    1963.000000  1.000000e+02  0.000000e+00\n",
       "25%    2012.000000  3.700000e+04  0.000000e+00\n",
       "50%    2016.000000  1.019600e+05  3.700000e+04\n",
       "75%    2018.000000  1.950000e+05  7.375000e+04\n",
       "max    2022.000000  2.000000e+07  1.150000e+06"
      ]
     },
     "execution_count": 693,
     "metadata": {},
     "output_type": "execute_result"
    }
   ],
   "source": [
    "cars.describe()"
   ]
  },
  {
   "cell_type": "markdown",
   "metadata": {},
   "source": [
    "As we can see . There are no null values present in the data set. But there are values of Price is 0 . Let's check that also!"
   ]
  },
  {
   "cell_type": "code",
   "execution_count": 694,
   "metadata": {},
   "outputs": [],
   "source": [
    "cars[\"Price\"]=cars[\"Price\"].replace(0,np.nan)\n",
    "\n"
   ]
  },
  {
   "cell_type": "code",
   "execution_count": 695,
   "metadata": {},
   "outputs": [
    {
     "data": {
      "text/plain": [
       "Make            0\n",
       "Type            0\n",
       "Year            0\n",
       "Origin          0\n",
       "Options         0\n",
       "Gear_Type       0\n",
       "Mileage         0\n",
       "Region          0\n",
       "Price        2527\n",
       "dtype: int64"
      ]
     },
     "execution_count": 695,
     "metadata": {},
     "output_type": "execute_result"
    }
   ],
   "source": [
    "cars.isna().sum()\n",
    "\n"
   ]
  },
  {
   "cell_type": "code",
   "execution_count": 696,
   "metadata": {},
   "outputs": [],
   "source": [
    "cars.dropna( inplace = True)"
   ]
  },
  {
   "cell_type": "markdown",
   "metadata": {},
   "source": [
    "We change those values to Null then Removed them!\n",
    "\n"
   ]
  },
  {
   "cell_type": "code",
   "execution_count": 697,
   "metadata": {},
   "outputs": [
    {
     "data": {
      "text/plain": [
       "16"
      ]
     },
     "execution_count": 697,
     "metadata": {},
     "output_type": "execute_result"
    }
   ],
   "source": [
    "cars.duplicated().sum()\n",
    "\n"
   ]
  },
  {
   "cell_type": "code",
   "execution_count": 698,
   "metadata": {},
   "outputs": [],
   "source": [
    "cars.drop_duplicates(inplace=True)"
   ]
  },
  {
   "cell_type": "markdown",
   "metadata": {},
   "source": [
    "There were some duplicate values we removed those!\n",
    "\n"
   ]
  },
  {
   "cell_type": "code",
   "execution_count": 699,
   "metadata": {},
   "outputs": [
    {
     "name": "stdout",
     "output_type": "stream",
     "text": [
      "<class 'pandas.core.frame.DataFrame'>\n",
      "Int64Index: 5492 entries, 0 to 8034\n",
      "Data columns (total 9 columns):\n",
      " #   Column     Non-Null Count  Dtype  \n",
      "---  ------     --------------  -----  \n",
      " 0   Make       5492 non-null   object \n",
      " 1   Type       5492 non-null   object \n",
      " 2   Year       5492 non-null   int64  \n",
      " 3   Origin     5492 non-null   object \n",
      " 4   Options    5492 non-null   object \n",
      " 5   Gear_Type  5492 non-null   object \n",
      " 6   Mileage    5492 non-null   int64  \n",
      " 7   Region     5492 non-null   object \n",
      " 8   Price      5492 non-null   float64\n",
      "dtypes: float64(1), int64(2), object(6)\n",
      "memory usage: 429.1+ KB\n"
     ]
    }
   ],
   "source": [
    "cars.info()\n"
   ]
  },
  {
   "cell_type": "markdown",
   "metadata": {},
   "source": [
    "let's check the Price first.\n"
   ]
  },
  {
   "cell_type": "code",
   "execution_count": 700,
   "metadata": {},
   "outputs": [
    {
     "data": {
      "text/plain": [
       "count    5.492000e+03\n",
       "mean     7.827891e+04\n",
       "std      7.508188e+04\n",
       "min      1.000000e+00\n",
       "25%      3.500000e+04\n",
       "50%      5.800000e+04\n",
       "75%      9.425000e+04\n",
       "max      1.150000e+06\n",
       "Name: Price, dtype: float64"
      ]
     },
     "execution_count": 700,
     "metadata": {},
     "output_type": "execute_result"
    }
   ],
   "source": [
    "cars['Price'].describe()"
   ]
  },
  {
   "cell_type": "markdown",
   "metadata": {},
   "source": [
    "Distribution of price"
   ]
  },
  {
   "cell_type": "markdown",
   "metadata": {},
   "source": [
    "# Visualizing the data\n"
   ]
  },
  {
   "cell_type": "code",
   "execution_count": 701,
   "metadata": {},
   "outputs": [
    {
     "name": "stderr",
     "output_type": "stream",
     "text": [
      "/Users/hadelalenezi/opt/anaconda3/lib/python3.8/site-packages/seaborn/distributions.py:2557: FutureWarning:\n",
      "\n",
      "`distplot` is a deprecated function and will be removed in a future version. Please adapt your code to use either `displot` (a figure-level function with similar flexibility) or `histplot` (an axes-level function for histograms).\n",
      "\n"
     ]
    },
    {
     "data": {
      "text/plain": [
       "<AxesSubplot:xlabel='Price', ylabel='Density'>"
      ]
     },
     "execution_count": 701,
     "metadata": {},
     "output_type": "execute_result"
    },
    {
     "data": {
      "image/png": "[encoded data removed]",
      "text/plain": [
       "<Figure size 720x432 with 1 Axes>"
      ]
     },
     "metadata": {
      "needs_background": "light"
     },
     "output_type": "display_data"
    }
   ],
   "source": [
    "plt.figure(figsize=(10,6))\n",
    "sns.distplot(cars.Price)\n",
    "\n",
    "#cars['Price'].plot(\n",
    "  #  kind='hist',\n",
    "  #  title='Review Price Distribution')\n",
    "#print(\"Skewness: %f\" % cars['Price'].skew())\n",
    "#print(\"Kurtosis: %f\" % cars['Price'].kurt())\n"
   ]
  },
  {
   "cell_type": "markdown",
   "metadata": {},
   "source": [
    "Even though target variable has right skewness, I will not make any transformation on it.\n"
   ]
  },
  {
   "cell_type": "markdown",
   "metadata": {},
   "source": [
    "RELATIONSHIP OF PRICE WITH OTHER PARAMETER¶"
   ]
  },
  {
   "cell_type": "code",
   "execution_count": 702,
   "metadata": {
    "scrolled": true
   },
   "outputs": [
    {
     "data": {
      "image/png": "[encoded data removed]",
      "text/plain": [
       "<Figure size 432x288 with 1 Axes>"
      ]
     },
     "metadata": {
      "needs_background": "light"
     },
     "output_type": "display_data"
    }
   ],
   "source": [
    "topbrands= cars.groupby('Make')['Make'].count()\n",
    "topbrands = pd.DataFrame(topbrands)\n",
    "topbrands.columns = ['Top Brands']\n",
    "topbrands.sort_values(by=['Top Brands'], inplace=True, ascending=False)\n",
    "topbrands = topbrands.head(10)\n",
    "\n",
    "topbrands.plot.bar();\n",
    "\n",
    "plt.title('Famous Brands')\n",
    "\n",
    "plt.xlabel('Brand')\n",
    "plt.ylabel('No. of Cars');"
   ]
  },
  {
   "cell_type": "markdown",
   "metadata": {},
   "source": [
    "The bar plot shows that the people in Saudi prefer cars from Japenese brand as the most selling cars from the top 10 brands in Saudi are from Japenese brand. This is obvious as the most of the Japenese car companies have manufacturing plants in saudi"
   ]
  },
  {
   "cell_type": "code",
   "execution_count": 703,
   "metadata": {},
   "outputs": [
    {
     "data": {
      "application/vnd.plotly.v1+json": {
       "config": {
        "plotlyServerURL": "https://plot.ly"
       },
       "data": [
        {
         "branchvalues": "total",
         "domain": {
          "x": [
           0,
           1
          ],
          "y": [
           0,
           1
          ]
         },
         "hovertemplate": "labels=%{label}<br>Price=%{value}<br>parent=%{parent}<br>id=%{id}<extra></extra>",
         "ids": [
          "2",
          "3",
          "300",
          "3008",
          "301",
          "307",
          "360",
          "4Runner",
          "5",
          "500",
          "5008",
          "6",
          "911",
          "A",
          "A3",
          "A4",
          "A5",
          "A6",
          "A7",
          "A8",
          "APV",
          "ASX",
          "ATS",
          "Abeka",
          "Acadia",
          "Accent",
          "Accord",
          "Altima",
          "Armada",
          "Arnage",
          "Attrage",
          "Aurion",
          "Avalon",
          "Avante",
          "Avanza",
          "Aveo",
          "Azera",
          "Azkarra",
          "B50",
          "Beetle",
          "Behbehani",
          "Bentayga",
          "Blazer",
          "Boxer",
          "Bus County",
          "Bus Urvan",
          "C",
          "C-HR",
          "C200",
          "C300",
          "CC",
          "CL",
          "CLA",
          "CLS",
          "CRV",
          "CS35",
          "CS35 Plus",
          "CS75",
          "CS85",
          "CS95",
          "CT-S",
          "CT4",
          "CT5",
          "CT6",
          "CX3",
          "CX5",
          "CX7",
          "CX9",
          "Cadenza",
          "Cadillac",
          "Camargue",
          "Camaro",
          "Camry",
          "Caprice",
          "Capture",
          "Carens",
          "Carenz",
          "Carnival",
          "Cayenne",
          "Cayenne S",
          "Cayenne Turbo",
          "Cayenne Turbo GTS",
          "Cayman",
          "Cerato",
          "Challenger",
          "Charger",
          "Cherokee",
          "Ciocca",
          "City",
          "Civic",
          "Coaster",
          "Colorado",
          "Compass",
          "Continental GT",
          "Coolray",
          "Copper",
          "Cores",
          "Corolla",
          "Countryman",
          "Coupe",
          "Coupe S",
          "Cressida",
          "Creta",
          "Crosstour",
          "Cruze",
          "D'max",
          "D-MAX",
          "DB9",
          "DTS",
          "Daily",
          "Datsun",
          "Defender",
          "Delta",
          "Discovery",
          "Doblo",
          "Dokker",
          "Durango",
          "Duster",
          "Dyna",
          "Dzire",
          "E",
          "EC7",
          "EC8",
          "ES",
          "Eado",
          "Echo",
          "Echo Sport",
          "Edge",
          "Elantra",
          "Emgrand",
          "Envoy",
          "Ertiga",
          "Escalade",
          "Expedition",
          "Explorer",
          "F Type",
          "F-Pace",
          "F150",
          "F3",
          "FJ",
          "FX",
          "Fabia",
          "Fleetwood",
          "Flex",
          "Fluence",
          "Flying Spur",
          "Focus",
          "Forester",
          "Furniture",
          "Fusion",
          "G",
          "G330",
          "G70",
          "G80",
          "GC7",
          "GL",
          "GLC",
          "GLE",
          "GS",
          "GS3",
          "GS8",
          "GTB 599 Fiorano",
          "GX",
          "Galant",
          "Gamble",
          "Genesis",
          "Ghost",
          "Gloria",
          "Golf",
          "Gran Max",
          "Grand Cherokee",
          "Grand Marquis",
          "Grand Vitara",
          "H-2",
          "H1",
          "H2",
          "H3",
          "H6",
          "H9",
          "HRV",
          "HS",
          "Hiace",
          "Hilux",
          "IS",
          "Impala",
          "Innova",
          "Jetta",
          "Jimny",
          "Juke",
          "K5",
          "KICKS",
          "Kaptiva",
          "Koleos",
          "Kona",
          "L200",
          "L300",
          "LF X60",
          "LS",
          "LX",
          "Lancer",
          "Land Cruiser",
          "Land Cruiser 70",
          "Land Cruiser Pickup",
          "Levante",
          "Liberty",
          "Logan",
          "Lumina",
          "M",
          "MKS",
          "MKX",
          "MKZ",
          "ML",
          "Macan",
          "Malibu",
          "Marquis",
          "Maxima",
          "Megane",
          "Milan",
          "Mini Cooper",
          "Mini Van",
          "Mohave",
          "Montero",
          "Montero2",
          "Murano",
          "Mustang",
          "NX",
          "Nativa",
          "Navara",
          "Navigator",
          "Nitro",
          "Odyssey",
          "Opirus",
          "Optima",
          "Optra",
          "Other",
          "Outlander",
          "POS24",
          "Pajero",
          "Panamera",
          "Partner",
          "Passat",
          "Pathfinder",
          "Patriot",
          "Patrol",
          "Pegas",
          "Picanto",
          "Pick up",
          "Pilot",
          "Platinum",
          "Power",
          "Prado",
          "Prestige",
          "Prestige Plus",
          "Previa",
          "Prius",
          "Q",
          "Q5",
          "Q7",
          "QQ",
          "QX",
          "Quattroporte",
          "RC",
          "RX",
          "RX5",
          "RX8",
          "Ram",
          "Range Rover",
          "Ranger",
          "Rav4",
          "Rio",
          "Royal",
          "Rush",
          "S",
          "S300",
          "S5",
          "S8",
          "SEL",
          "SL",
          "SRT",
          "SX4",
          "Safari",
          "Safrane",
          "Savana",
          "Sedona",
          "Seltos",
          "Senta fe",
          "Sentra",
          "Seven",
          "Sierra",
          "Silverado",
          "Sonata",
          "Sorento",
          "Soul",
          "Spark",
          "Sportage",
          "Stinger",
          "Suburban",
          "Sunny",
          "Superb",
          "Suvana",
          "Sylvian Bus",
          "Symbol",
          "T77",
          "Tahoe",
          "Talisman",
          "Taurus",
          "Terios",
          "Terios Ground",
          "Terrain",
          "The 3",
          "The 4",
          "The 5",
          "The 6",
          "The 7",
          "The M",
          "Tiggo",
          "Tiguan",
          "Touareg",
          "Town Car",
          "Trailblazer",
          "Traverse",
          "Tucson",
          "Tuscani",
          "UX",
          "VTC",
          "Van",
          "Van R",
          "Vanquish",
          "Vantage",
          "Vego",
          "Veloster",
          "Veracruz",
          "Viano",
          "Victoria",
          "Vitara",
          "Wingle",
          "Wrangler",
          "X",
          "X-Terra",
          "X-Trail",
          "X40",
          "X7",
          "XF",
          "XJ",
          "XT5",
          "Yaris",
          "Yukon",
          "Z",
          "Z350",
          "Z370",
          "ZS",
          "i40"
         ],
         "labels": [
          "2",
          "3",
          "300",
          "3008",
          "301",
          "307",
          "360",
          "4Runner",
          "5",
          "500",
          "5008",
          "6",
          "911",
          "A",
          "A3",
          "A4",
          "A5",
          "A6",
          "A7",
          "A8",
          "APV",
          "ASX",
          "ATS",
          "Abeka",
          "Acadia",
          "Accent",
          "Accord",
          "Altima",
          "Armada",
          "Arnage",
          "Attrage",
          "Aurion",
          "Avalon",
          "Avante",
          "Avanza",
          "Aveo",
          "Azera",
          "Azkarra",
          "B50",
          "Beetle",
          "Behbehani",
          "Bentayga",
          "Blazer",
          "Boxer",
          "Bus County",
          "Bus Urvan",
          "C",
          "C-HR",
          "C200",
          "C300",
          "CC",
          "CL",
          "CLA",
          "CLS",
          "CRV",
          "CS35",
          "CS35 Plus",
          "CS75",
          "CS85",
          "CS95",
          "CT-S",
          "CT4",
          "CT5",
          "CT6",
          "CX3",
          "CX5",
          "CX7",
          "CX9",
          "Cadenza",
          "Cadillac",
          "Camargue",
          "Camaro",
          "Camry",
          "Caprice",
          "Capture",
          "Carens",
          "Carenz",
          "Carnival",
          "Cayenne",
          "Cayenne S",
          "Cayenne Turbo",
          "Cayenne Turbo GTS",
          "Cayman",
          "Cerato",
          "Challenger",
          "Charger",
          "Cherokee",
          "Ciocca",
          "City",
          "Civic",
          "Coaster",
          "Colorado",
          "Compass",
          "Continental GT",
          "Coolray",
          "Copper",
          "Cores",
          "Corolla",
          "Countryman",
          "Coupe",
          "Coupe S",
          "Cressida",
          "Creta",
          "Crosstour",
          "Cruze",
          "D'max",
          "D-MAX",
          "DB9",
          "DTS",
          "Daily",
          "Datsun",
          "Defender",
          "Delta",
          "Discovery",
          "Doblo",
          "Dokker",
          "Durango",
          "Duster",
          "Dyna",
          "Dzire",
          "E",
          "EC7",
          "EC8",
          "ES",
          "Eado",
          "Echo",
          "Echo Sport",
          "Edge",
          "Elantra",
          "Emgrand",
          "Envoy",
          "Ertiga",
          "Escalade",
          "Expedition",
          "Explorer",
          "F Type",
          "F-Pace",
          "F150",
          "F3",
          "FJ",
          "FX",
          "Fabia",
          "Fleetwood",
          "Flex",
          "Fluence",
          "Flying Spur",
          "Focus",
          "Forester",
          "Furniture",
          "Fusion",
          "G",
          "G330",
          "G70",
          "G80",
          "GC7",
          "GL",
          "GLC",
          "GLE",
          "GS",
          "GS3",
          "GS8",
          "GTB 599 Fiorano",
          "GX",
          "Galant",
          "Gamble",
          "Genesis",
          "Ghost",
          "Gloria",
          "Golf",
          "Gran Max",
          "Grand Cherokee",
          "Grand Marquis",
          "Grand Vitara",
          "H-2",
          "H1",
          "H2",
          "H3",
          "H6",
          "H9",
          "HRV",
          "HS",
          "Hiace",
          "Hilux",
          "IS",
          "Impala",
          "Innova",
          "Jetta",
          "Jimny",
          "Juke",
          "K5",
          "KICKS",
          "Kaptiva",
          "Koleos",
          "Kona",
          "L200",
          "L300",
          "LF X60",
          "LS",
          "LX",
          "Lancer",
          "Land Cruiser",
          "Land Cruiser 70",
          "Land Cruiser Pickup",
          "Levante",
          "Liberty",
          "Logan",
          "Lumina",
          "M",
          "MKS",
          "MKX",
          "MKZ",
          "ML",
          "Macan",
          "Malibu",
          "Marquis",
          "Maxima",
          "Megane",
          "Milan",
          "Mini Cooper",
          "Mini Van",
          "Mohave",
          "Montero",
          "Montero2",
          "Murano",
          "Mustang",
          "NX",
          "Nativa",
          "Navara",
          "Navigator",
          "Nitro",
          "Odyssey",
          "Opirus",
          "Optima",
          "Optra",
          "Other",
          "Outlander",
          "POS24",
          "Pajero",
          "Panamera",
          "Partner",
          "Passat",
          "Pathfinder",
          "Patriot",
          "Patrol",
          "Pegas",
          "Picanto",
          "Pick up",
          "Pilot",
          "Platinum",
          "Power",
          "Prado",
          "Prestige",
          "Prestige Plus",
          "Previa",
          "Prius",
          "Q",
          "Q5",
          "Q7",
          "QQ",
          "QX",
          "Quattroporte",
          "RC",
          "RX",
          "RX5",
          "RX8",
          "Ram",
          "Range Rover",
          "Ranger",
          "Rav4",
          "Rio",
          "Royal",
          "Rush",
          "S",
          "S300",
          "S5",
          "S8",
          "SEL",
          "SL",
          "SRT",
          "SX4",
          "Safari",
          "Safrane",
          "Savana",
          "Sedona",
          "Seltos",
          "Senta fe",
          "Sentra",
          "Seven",
          "Sierra",
          "Silverado",
          "Sonata",
          "Sorento",
          "Soul",
          "Spark",
          "Sportage",
          "Stinger",
          "Suburban",
          "Sunny",
          "Superb",
          "Suvana",
          "Sylvian Bus",
          "Symbol",
          "T77",
          "Tahoe",
          "Talisman",
          "Taurus",
          "Terios",
          "Terios Ground",
          "Terrain",
          "The 3",
          "The 4",
          "The 5",
          "The 6",
          "The 7",
          "The M",
          "Tiggo",
          "Tiguan",
          "Touareg",
          "Town Car",
          "Trailblazer",
          "Traverse",
          "Tucson",
          "Tuscani",
          "UX",
          "VTC",
          "Van",
          "Van R",
          "Vanquish",
          "Vantage",
          "Vego",
          "Veloster",
          "Veracruz",
          "Viano",
          "Victoria",
          "Vitara",
          "Wingle",
          "Wrangler",
          "X",
          "X-Terra",
          "X-Trail",
          "X40",
          "X7",
          "XF",
          "XJ",
          "XT5",
          "Yaris",
          "Yukon",
          "Z",
          "Z350",
          "Z370",
          "ZS",
          "i40"
         ],
         "name": "",
         "parents": [
          "",
          "",
          "",
          "",
          "",
          "",
          "",
          "",
          "",
          "",
          "",
          "",
          "",
          "",
          "",
          "",
          "",
          "",
          "",
          "",
          "",
          "",
          "",
          "",
          "",
          "",
          "",
          "",
          "",
          "",
          "",
          "",
          "",
          "",
          "",
          "",
          "",
          "",
          "",
          "",
          "",
          "",
          "",
          "",
          "",
          "",
          "",
          "",
          "",
          "",
          "",
          "",
          "",
          "",
          "",
          "",
          "",
          "",
          "",
          "",
          "",
          "",
          "",
          "",
          "",
          "",
          "",
          "",
          "",
          "",
          "",
          "",
          "",
          "",
          "",
          "",
          "",
          "",
          "",
          "",
          "",
          "",
          "",
          "",
          "",
          "",
          "",
          "",
          "",
          "",
          "",
          "",
          "",
          "",
          "",
          "",
          "",
          "",
          "",
          "",
          "",
          "",
          "",
          "",
          "",
          "",
          "",
          "",
          "",
          "",
          "",
          "",
          "",
          "",
          "",
          "",
          "",
          "",
          "",
          "",
          "",
          "",
          "",
          "",
          "",
          "",
          "",
          "",
          "",
          "",
          "",
          "",
          "",
          "",
          "",
          "",
          "",
          "",
          "",
          "",
          "",
          "",
          "",
          "",
          "",
          "",
          "",
          "",
          "",
          "",
          "",
          "",
          "",
          "",
          "",
          "",
          "",
          "",
          "",
          "",
          "",
          "",
          "",
          "",
          "",
          "",
          "",
          "",
          "",
          "",
          "",
          "",
          "",
          "",
          "",
          "",
          "",
          "",
          "",
          "",
          "",
          "",
          "",
          "",
          "",
          "",
          "",
          "",
          "",
          "",
          "",
          "",
          "",
          "",
          "",
          "",
          "",
          "",
          "",
          "",
          "",
          "",
          "",
          "",
          "",
          "",
          "",
          "",
          "",
          "",
          "",
          "",
          "",
          "",
          "",
          "",
          "",
          "",
          "",
          "",
          "",
          "",
          "",
          "",
          "",
          "",
          "",
          "",
          "",
          "",
          "",
          "",
          "",
          "",
          "",
          "",
          "",
          "",
          "",
          "",
          "",
          "",
          "",
          "",
          "",
          "",
          "",
          "",
          "",
          "",
          "",
          "",
          "",
          "",
          "",
          "",
          "",
          "",
          "",
          "",
          "",
          "",
          "",
          "",
          "",
          "",
          "",
          "",
          "",
          "",
          "",
          "",
          "",
          "",
          "",
          "",
          "",
          "",
          "",
          "",
          "",
          "",
          "",
          "",
          "",
          "",
          "",
          "",
          "",
          "",
          "",
          "",
          "",
          "",
          "",
          "",
          "",
          "",
          "",
          "",
          "",
          "",
          "",
          "",
          "",
          "",
          "",
          "",
          "",
          "",
          "",
          "",
          "",
          "",
          "",
          "",
          "",
          "",
          "",
          "",
          "",
          "",
          "",
          "",
          "",
          "",
          "",
          "",
          "",
          "",
          "",
          "",
          "",
          "",
          "",
          "",
          "",
          "",
          "",
          "",
          "",
          "",
          "",
          "",
          "",
          "",
          "",
          "",
          "",
          "",
          "",
          ""
         ],
         "type": "treemap",
         "values": [
          14000,
          995500,
          594000,
          129000,
          61500,
          11000,
          62500,
          95000,
          202988,
          615000,
          112000,
          3182140,
          630000,
          1193000,
          312500,
          72000,
          120000,
          954500,
          260000,
          1798000,
          115500,
          142000,
          280000,
          25000,
          509000,
          6659566,
          5574300,
          1453500,
          282000,
          772500,
          202877,
          223500,
          3369058,
          60000,
          249500,
          109500,
          2570155,
          153000,
          45000,
          109000,
          55000,
          850000,
          216500,
          111000,
          182000,
          295500,
          8957000,
          90000,
          42000,
          1949500,
          82000,
          170000,
          1650500,
          732000,
          180000,
          135000,
          120000,
          402500,
          98000,
          235000,
          302000,
          314000,
          179000,
          325000,
          674500,
          1041262,
          25000,
          3012000,
          2333191,
          25000,
          500000,
          1196000,
          10619578,
          3216000,
          42000,
          33000,
          94000,
          929628,
          1040000,
          330000,
          50000,
          115000,
          225000,
          1568250,
          721000,
          4370569,
          268122,
          1801000,
          147000,
          484500,
          75000,
          28000,
          192499,
          250000,
          62000,
          676000,
          163000,
          5238173,
          263000,
          130000,
          25000,
          81000,
          394000,
          81000,
          263000,
          7000,
          1103000,
          180000,
          8000,
          92000,
          1494000,
          450000,
          135000,
          240000,
          45000,
          207500,
          947320,
          294128,
          525000,
          33000,
          6574500,
          92000,
          11500,
          10554200,
          551500,
          10000,
          446000,
          1340000,
          6109896,
          250000,
          14250,
          22000,
          2005500,
          6867587,
          2883000,
          425000,
          485000,
          1978165,
          28000,
          4398000,
          119500,
          6000,
          113000,
          743000,
          201500,
          1135000,
          83000,
          43500,
          7454005,
          743000,
          4245000,
          70000,
          290500,
          2336000,
          15000,
          834000,
          1790000,
          1115000,
          1652000,
          153000,
          167000,
          280000,
          573000,
          12000,
          296500,
          250000,
          1630000,
          27500,
          65000,
          83000,
          1871600,
          119000,
          35000,
          96000,
          1748959,
          213900,
          81000,
          555000,
          100000,
          122000,
          80000,
          2028000,
          11062723,
          1872000,
          3005500,
          3005000,
          54000,
          205000,
          61000,
          185044,
          352000,
          27000,
          64000,
          485656,
          159000,
          23000,
          25000,
          3609000,
          17453500,
          66500,
          30206360,
          1265864,
          3503500,
          755000,
          50000,
          10000,
          54000,
          10000,
          115000,
          324000,
          141500,
          508000,
          506000,
          1050700,
          577000,
          785500,
          42000,
          27000,
          42000,
          39500,
          109000,
          73000,
          15000,
          9500,
          2367048,
          811000,
          17000,
          606500,
          370000,
          32000,
          1321000,
          30000,
          1813778,
          59500,
          1616500,
          73625,
          45000,
          4061500,
          738000,
          47000,
          343402,
          577500,
          28500,
          6878272,
          37500,
          148500,
          100000,
          175000,
          247000,
          95000,
          8465000,
          481500,
          70000,
          406500,
          54900,
          595000,
          629000,
          50000,
          11000,
          531000,
          250000,
          459000,
          2901000,
          238135,
          291000,
          92479,
          17576500,
          239000,
          2308800,
          1121884,
          557000,
          284500,
          15062000,
          525000,
          160000,
          229000,
          388500,
          545000,
          115000,
          10000,
          22000,
          20000,
          11500,
          65000,
          218000,
          2640433,
          750139,
          253000,
          6057500,
          1905000,
          7794727,
          631000,
          61500,
          179500,
          1647256,
          160000,
          3864000,
          2239200,
          15000,
          43000,
          163000,
          67000,
          73000,
          13342833,
          41500,
          9684508,
          37000,
          35000,
          250000,
          485000,
          356500,
          1531000,
          408000,
          5433400,
          740000,
          42500,
          184000,
          131000,
          14000,
          48500,
          647000,
          2319613,
          95000,
          471000,
          915000,
          125000,
          31000,
          400000,
          550000,
          206499,
          112000,
          17000,
          144000,
          862500,
          89500,
          1197,
          2090000,
          3721500,
          141000,
          742973,
          35000,
          224000,
          195000,
          430000,
          368000,
          2330846,
          12061601,
          95000,
          50000,
          209000,
          153000,
          47000
         ]
        }
       ],
       "layout": {
        "legend": {
         "tracegroupgap": 0
        },
        "template": {
         "data": {
          "bar": [
           {
            "error_x": {
             "color": "#2a3f5f"
            },
            "error_y": {
             "color": "#2a3f5f"
            },
            "marker": {
             "line": {
              "color": "#E5ECF6",
              "width": 0.5
             },
             "pattern": {
              "fillmode": "overlay",
              "size": 10,
              "solidity": 0.2
             }
            },
            "type": "bar"
           }
          ],
          "barpolar": [
           {
            "marker": {
             "line": {
              "color": "#E5ECF6",
              "width": 0.5
             },
             "pattern": {
              "fillmode": "overlay",
              "size": 10,
              "solidity": 0.2
             }
            },
            "type": "barpolar"
           }
          ],
          "carpet": [
           {
            "aaxis": {
             "endlinecolor": "#2a3f5f",
             "gridcolor": "white",
             "linecolor": "white",
             "minorgridcolor": "white",
             "startlinecolor": "#2a3f5f"
            },
            "baxis": {
             "endlinecolor": "#2a3f5f",
             "gridcolor": "white",
             "linecolor": "white",
             "minorgridcolor": "white",
             "startlinecolor": "#2a3f5f"
            },
            "type": "carpet"
           }
          ],
          "choropleth": [
           {
            "colorbar": {
             "outlinewidth": 0,
             "ticks": ""
            },
            "type": "choropleth"
           }
          ],
          "contour": [
           {
            "colorbar": {
             "outlinewidth": 0,
             "ticks": ""
            },
            "colorscale": [
             [
              0,
              "#0d0887"
             ],
             [
              0.1111111111111111,
              "#46039f"
             ],
             [
              0.2222222222222222,
              "#7201a8"
             ],
             [
              0.3333333333333333,
              "#9c179e"
             ],
             [
              0.4444444444444444,
              "#bd3786"
             ],
             [
              0.5555555555555556,
              "#d8576b"
             ],
             [
              0.6666666666666666,
              "#ed7953"
             ],
             [
              0.7777777777777778,
              "#fb9f3a"
             ],
             [
              0.8888888888888888,
              "#fdca26"
             ],
             [
              1,
              "#f0f921"
             ]
            ],
            "type": "contour"
           }
          ],
          "contourcarpet": [
           {
            "colorbar": {
             "outlinewidth": 0,
             "ticks": ""
            },
            "type": "contourcarpet"
           }
          ],
          "heatmap": [
           {
            "colorbar": {
             "outlinewidth": 0,
             "ticks": ""
            },
            "colorscale": [
             [
              0,
              "#0d0887"
             ],
             [
              0.1111111111111111,
              "#46039f"
             ],
             [
              0.2222222222222222,
              "#7201a8"
             ],
             [
              0.3333333333333333,
              "#9c179e"
             ],
             [
              0.4444444444444444,
              "#bd3786"
             ],
             [
              0.5555555555555556,
              "#d8576b"
             ],
             [
              0.6666666666666666,
              "#ed7953"
             ],
             [
              0.7777777777777778,
              "#fb9f3a"
             ],
             [
              0.8888888888888888,
              "#fdca26"
             ],
             [
              1,
              "#f0f921"
             ]
            ],
            "type": "heatmap"
           }
          ],
          "heatmapgl": [
           {
            "colorbar": {
             "outlinewidth": 0,
             "ticks": ""
            },
            "colorscale": [
             [
              0,
              "#0d0887"
             ],
             [
              0.1111111111111111,
              "#46039f"
             ],
             [
              0.2222222222222222,
              "#7201a8"
             ],
             [
              0.3333333333333333,
              "#9c179e"
             ],
             [
              0.4444444444444444,
              "#bd3786"
             ],
             [
              0.5555555555555556,
              "#d8576b"
             ],
             [
              0.6666666666666666,
              "#ed7953"
             ],
             [
              0.7777777777777778,
              "#fb9f3a"
             ],
             [
              0.8888888888888888,
              "#fdca26"
             ],
             [
              1,
              "#f0f921"
             ]
            ],
            "type": "heatmapgl"
           }
          ],
          "histogram": [
           {
            "marker": {
             "pattern": {
              "fillmode": "overlay",
              "size": 10,
              "solidity": 0.2
             }
            },
            "type": "histogram"
           }
          ],
          "histogram2d": [
           {
            "colorbar": {
             "outlinewidth": 0,
             "ticks": ""
            },
            "colorscale": [
             [
              0,
              "#0d0887"
             ],
             [
              0.1111111111111111,
              "#46039f"
             ],
             [
              0.2222222222222222,
              "#7201a8"
             ],
             [
              0.3333333333333333,
              "#9c179e"
             ],
             [
              0.4444444444444444,
              "#bd3786"
             ],
             [
              0.5555555555555556,
              "#d8576b"
             ],
             [
              0.6666666666666666,
              "#ed7953"
             ],
             [
              0.7777777777777778,
              "#fb9f3a"
             ],
             [
              0.8888888888888888,
              "#fdca26"
             ],
             [
              1,
              "#f0f921"
             ]
            ],
            "type": "histogram2d"
           }
          ],
          "histogram2dcontour": [
           {
            "colorbar": {
             "outlinewidth": 0,
             "ticks": ""
            },
            "colorscale": [
             [
              0,
              "#0d0887"
             ],
             [
              0.1111111111111111,
              "#46039f"
             ],
             [
              0.2222222222222222,
              "#7201a8"
             ],
             [
              0.3333333333333333,
              "#9c179e"
             ],
             [
              0.4444444444444444,
              "#bd3786"
             ],
             [
              0.5555555555555556,
              "#d8576b"
             ],
             [
              0.6666666666666666,
              "#ed7953"
             ],
             [
              0.7777777777777778,
              "#fb9f3a"
             ],
             [
              0.8888888888888888,
              "#fdca26"
             ],
             [
              1,
              "#f0f921"
             ]
            ],
            "type": "histogram2dcontour"
           }
          ],
          "mesh3d": [
           {
            "colorbar": {
             "outlinewidth": 0,
             "ticks": ""
            },
            "type": "mesh3d"
           }
          ],
          "parcoords": [
           {
            "line": {
             "colorbar": {
              "outlinewidth": 0,
              "ticks": ""
             }
            },
            "type": "parcoords"
           }
          ],
          "pie": [
           {
            "automargin": true,
            "type": "pie"
           }
          ],
          "scatter": [
           {
            "marker": {
             "colorbar": {
              "outlinewidth": 0,
              "ticks": ""
             }
            },
            "type": "scatter"
           }
          ],
          "scatter3d": [
           {
            "line": {
             "colorbar": {
              "outlinewidth": 0,
              "ticks": ""
             }
            },
            "marker": {
             "colorbar": {
              "outlinewidth": 0,
              "ticks": ""
             }
            },
            "type": "scatter3d"
           }
          ],
          "scattercarpet": [
           {
            "marker": {
             "colorbar": {
              "outlinewidth": 0,
              "ticks": ""
             }
            },
            "type": "scattercarpet"
           }
          ],
          "scattergeo": [
           {
            "marker": {
             "colorbar": {
              "outlinewidth": 0,
              "ticks": ""
             }
            },
            "type": "scattergeo"
           }
          ],
          "scattergl": [
           {
            "marker": {
             "colorbar": {
              "outlinewidth": 0,
              "ticks": ""
             }
            },
            "type": "scattergl"
           }
          ],
          "scattermapbox": [
           {
            "marker": {
             "colorbar": {
              "outlinewidth": 0,
              "ticks": ""
             }
            },
            "type": "scattermapbox"
           }
          ],
          "scatterpolar": [
           {
            "marker": {
             "colorbar": {
              "outlinewidth": 0,
              "ticks": ""
             }
            },
            "type": "scatterpolar"
           }
          ],
          "scatterpolargl": [
           {
            "marker": {
             "colorbar": {
              "outlinewidth": 0,
              "ticks": ""
             }
            },
            "type": "scatterpolargl"
           }
          ],
          "scatterternary": [
           {
            "marker": {
             "colorbar": {
              "outlinewidth": 0,
              "ticks": ""
             }
            },
            "type": "scatterternary"
           }
          ],
          "surface": [
           {
            "colorbar": {
             "outlinewidth": 0,
             "ticks": ""
            },
            "colorscale": [
             [
              0,
              "#0d0887"
             ],
             [
              0.1111111111111111,
              "#46039f"
             ],
             [
              0.2222222222222222,
              "#7201a8"
             ],
             [
              0.3333333333333333,
              "#9c179e"
             ],
             [
              0.4444444444444444,
              "#bd3786"
             ],
             [
              0.5555555555555556,
              "#d8576b"
             ],
             [
              0.6666666666666666,
              "#ed7953"
             ],
             [
              0.7777777777777778,
              "#fb9f3a"
             ],
             [
              0.8888888888888888,
              "#fdca26"
             ],
             [
              1,
              "#f0f921"
             ]
            ],
            "type": "surface"
           }
          ],
          "table": [
           {
            "cells": {
             "fill": {
              "color": "#EBF0F8"
             },
             "line": {
              "color": "white"
             }
            },
            "header": {
             "fill": {
              "color": "#C8D4E3"
             },
             "line": {
              "color": "white"
             }
            },
            "type": "table"
           }
          ]
         },
         "layout": {
          "annotationdefaults": {
           "arrowcolor": "#2a3f5f",
           "arrowhead": 0,
           "arrowwidth": 1
          },
          "autotypenumbers": "strict",
          "coloraxis": {
           "colorbar": {
            "outlinewidth": 0,
            "ticks": ""
           }
          },
          "colorscale": {
           "diverging": [
            [
             0,
             "#8e0152"
            ],
            [
             0.1,
             "#c51b7d"
            ],
            [
             0.2,
             "#de77ae"
            ],
            [
             0.3,
             "#f1b6da"
            ],
            [
             0.4,
             "#fde0ef"
            ],
            [
             0.5,
             "#f7f7f7"
            ],
            [
             0.6,
             "#e6f5d0"
            ],
            [
             0.7,
             "#b8e186"
            ],
            [
             0.8,
             "#7fbc41"
            ],
            [
             0.9,
             "#4d9221"
            ],
            [
             1,
             "#276419"
            ]
           ],
           "sequential": [
            [
             0,
             "#0d0887"
            ],
            [
             0.1111111111111111,
             "#46039f"
            ],
            [
             0.2222222222222222,
             "#7201a8"
            ],
            [
             0.3333333333333333,
             "#9c179e"
            ],
            [
             0.4444444444444444,
             "#bd3786"
            ],
            [
             0.5555555555555556,
             "#d8576b"
            ],
            [
             0.6666666666666666,
             "#ed7953"
            ],
            [
             0.7777777777777778,
             "#fb9f3a"
            ],
            [
             0.8888888888888888,
             "#fdca26"
            ],
            [
             1,
             "#f0f921"
            ]
           ],
           "sequentialminus": [
            [
             0,
             "#0d0887"
            ],
            [
             0.1111111111111111,
             "#46039f"
            ],
            [
             0.2222222222222222,
             "#7201a8"
            ],
            [
             0.3333333333333333,
             "#9c179e"
            ],
            [
             0.4444444444444444,
             "#bd3786"
            ],
            [
             0.5555555555555556,
             "#d8576b"
            ],
            [
             0.6666666666666666,
             "#ed7953"
            ],
            [
             0.7777777777777778,
             "#fb9f3a"
            ],
            [
             0.8888888888888888,
             "#fdca26"
            ],
            [
             1,
             "#f0f921"
            ]
           ]
          },
          "colorway": [
           "#636efa",
           "#EF553B",
           "#00cc96",
           "#ab63fa",
           "#FFA15A",
           "#19d3f3",
           "#FF6692",
           "#B6E880",
           "#FF97FF",
           "#FECB52"
          ],
          "font": {
           "color": "#2a3f5f"
          },
          "geo": {
           "bgcolor": "white",
           "lakecolor": "white",
           "landcolor": "#E5ECF6",
           "showlakes": true,
           "showland": true,
           "subunitcolor": "white"
          },
          "hoverlabel": {
           "align": "left"
          },
          "hovermode": "closest",
          "mapbox": {
           "style": "light"
          },
          "paper_bgcolor": "white",
          "plot_bgcolor": "#E5ECF6",
          "polar": {
           "angularaxis": {
            "gridcolor": "white",
            "linecolor": "white",
            "ticks": ""
           },
           "bgcolor": "#E5ECF6",
           "radialaxis": {
            "gridcolor": "white",
            "linecolor": "white",
            "ticks": ""
           }
          },
          "scene": {
           "xaxis": {
            "backgroundcolor": "#E5ECF6",
            "gridcolor": "white",
            "gridwidth": 2,
            "linecolor": "white",
            "showbackground": true,
            "ticks": "",
            "zerolinecolor": "white"
           },
           "yaxis": {
            "backgroundcolor": "#E5ECF6",
            "gridcolor": "white",
            "gridwidth": 2,
            "linecolor": "white",
            "showbackground": true,
            "ticks": "",
            "zerolinecolor": "white"
           },
           "zaxis": {
            "backgroundcolor": "#E5ECF6",
            "gridcolor": "white",
            "gridwidth": 2,
            "linecolor": "white",
            "showbackground": true,
            "ticks": "",
            "zerolinecolor": "white"
           }
          },
          "shapedefaults": {
           "line": {
            "color": "#2a3f5f"
           }
          },
          "ternary": {
           "aaxis": {
            "gridcolor": "white",
            "linecolor": "white",
            "ticks": ""
           },
           "baxis": {
            "gridcolor": "white",
            "linecolor": "white",
            "ticks": ""
           },
           "bgcolor": "#E5ECF6",
           "caxis": {
            "gridcolor": "white",
            "linecolor": "white",
            "ticks": ""
           }
          },
          "title": {
           "x": 0.05
          },
          "xaxis": {
           "automargin": true,
           "gridcolor": "white",
           "linecolor": "white",
           "ticks": "",
           "title": {
            "standoff": 15
           },
           "zerolinecolor": "white",
           "zerolinewidth": 2
          },
          "yaxis": {
           "automargin": true,
           "gridcolor": "white",
           "linecolor": "white",
           "ticks": "",
           "title": {
            "standoff": 15
           },
           "zerolinecolor": "white",
           "zerolinewidth": 2
          }
         }
        },
        "title": {
         "text": "Price vs Type"
        }
       }
      },
      "text/html": [
       "<div>                            <div id=\"022ce758-94d7-4fa2-9650-5230e2fa3124\" class=\"plotly-graph-div\" style=\"height:525px; width:100%;\"></div>            <script type=\"text/javascript\">                require([\"plotly\"], function(Plotly) {                    window.PLOTLYENV=window.PLOTLYENV || {};                                    if (document.getElementById(\"022ce758-94d7-4fa2-9650-5230e2fa3124\")) {                    Plotly.newPlot(                        \"022ce758-94d7-4fa2-9650-5230e2fa3124\",                        [{\"branchvalues\":\"total\",\"domain\":{\"x\":[0.0,1.0],\"y\":[0.0,1.0]},\"hovertemplate\":\"labels=%{label}<br>Price=%{value}<br>parent=%{parent}<br>id=%{id}<extra></extra>\",\"ids\":[\"2\",\"3\",\"300\",\"3008\",\"301\",\"307\",\"360\",\"4Runner\",\"5\",\"500\",\"5008\",\"6\",\"911\",\"A\",\"A3\",\"A4\",\"A5\",\"A6\",\"A7\",\"A8\",\"APV\",\"ASX\",\"ATS\",\"Abeka\",\"Acadia\",\"Accent\",\"Accord\",\"Altima\",\"Armada\",\"Arnage\",\"Attrage\",\"Aurion\",\"Avalon\",\"Avante\",\"Avanza\",\"Aveo\",\"Azera\",\"Azkarra\",\"B50\",\"Beetle\",\"Behbehani\",\"Bentayga\",\"Blazer\",\"Boxer\",\"Bus County\",\"Bus Urvan\",\"C\",\"C-HR\",\"C200\",\"C300\",\"CC\",\"CL\",\"CLA\",\"CLS\",\"CRV\",\"CS35\",\"CS35 Plus\",\"CS75\",\"CS85\",\"CS95\",\"CT-S\",\"CT4\",\"CT5\",\"CT6\",\"CX3\",\"CX5\",\"CX7\",\"CX9\",\"Cadenza\",\"Cadillac\",\"Camargue\",\"Camaro\",\"Camry\",\"Caprice\",\"Capture\",\"Carens\",\"Carenz\",\"Carnival\",\"Cayenne\",\"Cayenne S\",\"Cayenne Turbo\",\"Cayenne Turbo GTS\",\"Cayman\",\"Cerato\",\"Challenger\",\"Charger\",\"Cherokee\",\"Ciocca\",\"City\",\"Civic\",\"Coaster\",\"Colorado\",\"Compass\",\"Continental GT\",\"Coolray\",\"Copper\",\"Cores\",\"Corolla\",\"Countryman\",\"Coupe\",\"Coupe S\",\"Cressida\",\"Creta\",\"Crosstour\",\"Cruze\",\"D'max\",\"D-MAX\",\"DB9\",\"DTS\",\"Daily\",\"Datsun\",\"Defender\",\"Delta\",\"Discovery\",\"Doblo\",\"Dokker\",\"Durango\",\"Duster\",\"Dyna\",\"Dzire\",\"E\",\"EC7\",\"EC8\",\"ES\",\"Eado\",\"Echo\",\"Echo Sport\",\"Edge\",\"Elantra\",\"Emgrand\",\"Envoy\",\"Ertiga\",\"Escalade\",\"Expedition\",\"Explorer\",\"F Type\",\"F-Pace\",\"F150\",\"F3\",\"FJ\",\"FX\",\"Fabia\",\"Fleetwood\",\"Flex\",\"Fluence\",\"Flying Spur\",\"Focus\",\"Forester\",\"Furniture\",\"Fusion\",\"G\",\"G330\",\"G70\",\"G80\",\"GC7\",\"GL\",\"GLC\",\"GLE\",\"GS\",\"GS3\",\"GS8\",\"GTB 599 Fiorano\",\"GX\",\"Galant\",\"Gamble\",\"Genesis\",\"Ghost\",\"Gloria\",\"Golf\",\"Gran Max\",\"Grand Cherokee\",\"Grand Marquis\",\"Grand Vitara\",\"H-2\",\"H1\",\"H2\",\"H3\",\"H6\",\"H9\",\"HRV\",\"HS\",\"Hiace\",\"Hilux\",\"IS\",\"Impala\",\"Innova\",\"Jetta\",\"Jimny\",\"Juke\",\"K5\",\"KICKS\",\"Kaptiva\",\"Koleos\",\"Kona\",\"L200\",\"L300\",\"LF X60\",\"LS\",\"LX\",\"Lancer\",\"Land Cruiser\",\"Land Cruiser 70\",\"Land Cruiser Pickup\",\"Levante\",\"Liberty\",\"Logan\",\"Lumina\",\"M\",\"MKS\",\"MKX\",\"MKZ\",\"ML\",\"Macan\",\"Malibu\",\"Marquis\",\"Maxima\",\"Megane\",\"Milan\",\"Mini Cooper\",\"Mini Van\",\"Mohave\",\"Montero\",\"Montero2\",\"Murano\",\"Mustang\",\"NX\",\"Nativa\",\"Navara\",\"Navigator\",\"Nitro\",\"Odyssey\",\"Opirus\",\"Optima\",\"Optra\",\"Other\",\"Outlander\",\"POS24\",\"Pajero\",\"Panamera\",\"Partner\",\"Passat\",\"Pathfinder\",\"Patriot\",\"Patrol\",\"Pegas\",\"Picanto\",\"Pick up\",\"Pilot\",\"Platinum\",\"Power\",\"Prado\",\"Prestige\",\"Prestige Plus\",\"Previa\",\"Prius\",\"Q\",\"Q5\",\"Q7\",\"QQ\",\"QX\",\"Quattroporte\",\"RC\",\"RX\",\"RX5\",\"RX8\",\"Ram\",\"Range Rover\",\"Ranger\",\"Rav4\",\"Rio\",\"Royal\",\"Rush\",\"S\",\"S300\",\"S5\",\"S8\",\"SEL\",\"SL\",\"SRT\",\"SX4\",\"Safari\",\"Safrane\",\"Savana\",\"Sedona\",\"Seltos\",\"Senta fe\",\"Sentra\",\"Seven\",\"Sierra\",\"Silverado\",\"Sonata\",\"Sorento\",\"Soul\",\"Spark\",\"Sportage\",\"Stinger\",\"Suburban\",\"Sunny\",\"Superb\",\"Suvana\",\"Sylvian Bus\",\"Symbol\",\"T77\",\"Tahoe\",\"Talisman\",\"Taurus\",\"Terios\",\"Terios Ground\",\"Terrain\",\"The 3\",\"The 4\",\"The 5\",\"The 6\",\"The 7\",\"The M\",\"Tiggo\",\"Tiguan\",\"Touareg\",\"Town Car\",\"Trailblazer\",\"Traverse\",\"Tucson\",\"Tuscani\",\"UX\",\"VTC\",\"Van\",\"Van R\",\"Vanquish\",\"Vantage\",\"Vego\",\"Veloster\",\"Veracruz\",\"Viano\",\"Victoria\",\"Vitara\",\"Wingle\",\"Wrangler\",\"X\",\"X-Terra\",\"X-Trail\",\"X40\",\"X7\",\"XF\",\"XJ\",\"XT5\",\"Yaris\",\"Yukon\",\"Z\",\"Z350\",\"Z370\",\"ZS\",\"i40\"],\"labels\":[\"2\",\"3\",\"300\",\"3008\",\"301\",\"307\",\"360\",\"4Runner\",\"5\",\"500\",\"5008\",\"6\",\"911\",\"A\",\"A3\",\"A4\",\"A5\",\"A6\",\"A7\",\"A8\",\"APV\",\"ASX\",\"ATS\",\"Abeka\",\"Acadia\",\"Accent\",\"Accord\",\"Altima\",\"Armada\",\"Arnage\",\"Attrage\",\"Aurion\",\"Avalon\",\"Avante\",\"Avanza\",\"Aveo\",\"Azera\",\"Azkarra\",\"B50\",\"Beetle\",\"Behbehani\",\"Bentayga\",\"Blazer\",\"Boxer\",\"Bus County\",\"Bus Urvan\",\"C\",\"C-HR\",\"C200\",\"C300\",\"CC\",\"CL\",\"CLA\",\"CLS\",\"CRV\",\"CS35\",\"CS35 Plus\",\"CS75\",\"CS85\",\"CS95\",\"CT-S\",\"CT4\",\"CT5\",\"CT6\",\"CX3\",\"CX5\",\"CX7\",\"CX9\",\"Cadenza\",\"Cadillac\",\"Camargue\",\"Camaro\",\"Camry\",\"Caprice\",\"Capture\",\"Carens\",\"Carenz\",\"Carnival\",\"Cayenne\",\"Cayenne S\",\"Cayenne Turbo\",\"Cayenne Turbo GTS\",\"Cayman\",\"Cerato\",\"Challenger\",\"Charger\",\"Cherokee\",\"Ciocca\",\"City\",\"Civic\",\"Coaster\",\"Colorado\",\"Compass\",\"Continental GT\",\"Coolray\",\"Copper\",\"Cores\",\"Corolla\",\"Countryman\",\"Coupe\",\"Coupe S\",\"Cressida\",\"Creta\",\"Crosstour\",\"Cruze\",\"D'max\",\"D-MAX\",\"DB9\",\"DTS\",\"Daily\",\"Datsun\",\"Defender\",\"Delta\",\"Discovery\",\"Doblo\",\"Dokker\",\"Durango\",\"Duster\",\"Dyna\",\"Dzire\",\"E\",\"EC7\",\"EC8\",\"ES\",\"Eado\",\"Echo\",\"Echo Sport\",\"Edge\",\"Elantra\",\"Emgrand\",\"Envoy\",\"Ertiga\",\"Escalade\",\"Expedition\",\"Explorer\",\"F Type\",\"F-Pace\",\"F150\",\"F3\",\"FJ\",\"FX\",\"Fabia\",\"Fleetwood\",\"Flex\",\"Fluence\",\"Flying Spur\",\"Focus\",\"Forester\",\"Furniture\",\"Fusion\",\"G\",\"G330\",\"G70\",\"G80\",\"GC7\",\"GL\",\"GLC\",\"GLE\",\"GS\",\"GS3\",\"GS8\",\"GTB 599 Fiorano\",\"GX\",\"Galant\",\"Gamble\",\"Genesis\",\"Ghost\",\"Gloria\",\"Golf\",\"Gran Max\",\"Grand Cherokee\",\"Grand Marquis\",\"Grand Vitara\",\"H-2\",\"H1\",\"H2\",\"H3\",\"H6\",\"H9\",\"HRV\",\"HS\",\"Hiace\",\"Hilux\",\"IS\",\"Impala\",\"Innova\",\"Jetta\",\"Jimny\",\"Juke\",\"K5\",\"KICKS\",\"Kaptiva\",\"Koleos\",\"Kona\",\"L200\",\"L300\",\"LF X60\",\"LS\",\"LX\",\"Lancer\",\"Land Cruiser\",\"Land Cruiser 70\",\"Land Cruiser Pickup\",\"Levante\",\"Liberty\",\"Logan\",\"Lumina\",\"M\",\"MKS\",\"MKX\",\"MKZ\",\"ML\",\"Macan\",\"Malibu\",\"Marquis\",\"Maxima\",\"Megane\",\"Milan\",\"Mini Cooper\",\"Mini Van\",\"Mohave\",\"Montero\",\"Montero2\",\"Murano\",\"Mustang\",\"NX\",\"Nativa\",\"Navara\",\"Navigator\",\"Nitro\",\"Odyssey\",\"Opirus\",\"Optima\",\"Optra\",\"Other\",\"Outlander\",\"POS24\",\"Pajero\",\"Panamera\",\"Partner\",\"Passat\",\"Pathfinder\",\"Patriot\",\"Patrol\",\"Pegas\",\"Picanto\",\"Pick up\",\"Pilot\",\"Platinum\",\"Power\",\"Prado\",\"Prestige\",\"Prestige Plus\",\"Previa\",\"Prius\",\"Q\",\"Q5\",\"Q7\",\"QQ\",\"QX\",\"Quattroporte\",\"RC\",\"RX\",\"RX5\",\"RX8\",\"Ram\",\"Range Rover\",\"Ranger\",\"Rav4\",\"Rio\",\"Royal\",\"Rush\",\"S\",\"S300\",\"S5\",\"S8\",\"SEL\",\"SL\",\"SRT\",\"SX4\",\"Safari\",\"Safrane\",\"Savana\",\"Sedona\",\"Seltos\",\"Senta fe\",\"Sentra\",\"Seven\",\"Sierra\",\"Silverado\",\"Sonata\",\"Sorento\",\"Soul\",\"Spark\",\"Sportage\",\"Stinger\",\"Suburban\",\"Sunny\",\"Superb\",\"Suvana\",\"Sylvian Bus\",\"Symbol\",\"T77\",\"Tahoe\",\"Talisman\",\"Taurus\",\"Terios\",\"Terios Ground\",\"Terrain\",\"The 3\",\"The 4\",\"The 5\",\"The 6\",\"The 7\",\"The M\",\"Tiggo\",\"Tiguan\",\"Touareg\",\"Town Car\",\"Trailblazer\",\"Traverse\",\"Tucson\",\"Tuscani\",\"UX\",\"VTC\",\"Van\",\"Van R\",\"Vanquish\",\"Vantage\",\"Vego\",\"Veloster\",\"Veracruz\",\"Viano\",\"Victoria\",\"Vitara\",\"Wingle\",\"Wrangler\",\"X\",\"X-Terra\",\"X-Trail\",\"X40\",\"X7\",\"XF\",\"XJ\",\"XT5\",\"Yaris\",\"Yukon\",\"Z\",\"Z350\",\"Z370\",\"ZS\",\"i40\"],\"name\":\"\",\"parents\":[\"\",\"\",\"\",\"\",\"\",\"\",\"\",\"\",\"\",\"\",\"\",\"\",\"\",\"\",\"\",\"\",\"\",\"\",\"\",\"\",\"\",\"\",\"\",\"\",\"\",\"\",\"\",\"\",\"\",\"\",\"\",\"\",\"\",\"\",\"\",\"\",\"\",\"\",\"\",\"\",\"\",\"\",\"\",\"\",\"\",\"\",\"\",\"\",\"\",\"\",\"\",\"\",\"\",\"\",\"\",\"\",\"\",\"\",\"\",\"\",\"\",\"\",\"\",\"\",\"\",\"\",\"\",\"\",\"\",\"\",\"\",\"\",\"\",\"\",\"\",\"\",\"\",\"\",\"\",\"\",\"\",\"\",\"\",\"\",\"\",\"\",\"\",\"\",\"\",\"\",\"\",\"\",\"\",\"\",\"\",\"\",\"\",\"\",\"\",\"\",\"\",\"\",\"\",\"\",\"\",\"\",\"\",\"\",\"\",\"\",\"\",\"\",\"\",\"\",\"\",\"\",\"\",\"\",\"\",\"\",\"\",\"\",\"\",\"\",\"\",\"\",\"\",\"\",\"\",\"\",\"\",\"\",\"\",\"\",\"\",\"\",\"\",\"\",\"\",\"\",\"\",\"\",\"\",\"\",\"\",\"\",\"\",\"\",\"\",\"\",\"\",\"\",\"\",\"\",\"\",\"\",\"\",\"\",\"\",\"\",\"\",\"\",\"\",\"\",\"\",\"\",\"\",\"\",\"\",\"\",\"\",\"\",\"\",\"\",\"\",\"\",\"\",\"\",\"\",\"\",\"\",\"\",\"\",\"\",\"\",\"\",\"\",\"\",\"\",\"\",\"\",\"\",\"\",\"\",\"\",\"\",\"\",\"\",\"\",\"\",\"\",\"\",\"\",\"\",\"\",\"\",\"\",\"\",\"\",\"\",\"\",\"\",\"\",\"\",\"\",\"\",\"\",\"\",\"\",\"\",\"\",\"\",\"\",\"\",\"\",\"\",\"\",\"\",\"\",\"\",\"\",\"\",\"\",\"\",\"\",\"\",\"\",\"\",\"\",\"\",\"\",\"\",\"\",\"\",\"\",\"\",\"\",\"\",\"\",\"\",\"\",\"\",\"\",\"\",\"\",\"\",\"\",\"\",\"\",\"\",\"\",\"\",\"\",\"\",\"\",\"\",\"\",\"\",\"\",\"\",\"\",\"\",\"\",\"\",\"\",\"\",\"\",\"\",\"\",\"\",\"\",\"\",\"\",\"\",\"\",\"\",\"\",\"\",\"\",\"\",\"\",\"\",\"\",\"\",\"\",\"\",\"\",\"\",\"\",\"\",\"\",\"\",\"\",\"\",\"\",\"\",\"\",\"\",\"\",\"\",\"\",\"\",\"\",\"\",\"\",\"\",\"\",\"\",\"\",\"\",\"\",\"\",\"\",\"\",\"\",\"\",\"\",\"\",\"\",\"\",\"\",\"\",\"\",\"\",\"\",\"\",\"\",\"\",\"\",\"\",\"\",\"\",\"\",\"\",\"\",\"\",\"\",\"\",\"\",\"\",\"\",\"\"],\"type\":\"treemap\",\"values\":[14000.0,995500.0,594000.0,129000.0,61500.0,11000.0,62500.0,95000.0,202988.0,615000.0,112000.0,3182140.0,630000.0,1193000.0,312500.0,72000.0,120000.0,954500.0,260000.0,1798000.0,115500.0,142000.0,280000.0,25000.0,509000.0,6659566.0,5574300.0,1453500.0,282000.0,772500.0,202877.0,223500.0,3369058.0,60000.0,249500.0,109500.0,2570155.0,153000.0,45000.0,109000.0,55000.0,850000.0,216500.0,111000.0,182000.0,295500.0,8957000.0,90000.0,42000.0,1949500.0,82000.0,170000.0,1650500.0,732000.0,180000.0,135000.0,120000.0,402500.0,98000.0,235000.0,302000.0,314000.0,179000.0,325000.0,674500.0,1041262.0,25000.0,3012000.0,2333191.0,25000.0,500000.0,1196000.0,10619578.0,3216000.0,42000.0,33000.0,94000.0,929628.0,1040000.0,330000.0,50000.0,115000.0,225000.0,1568250.0,721000.0,4370569.0,268122.0,1801000.0,147000.0,484500.0,75000.0,28000.0,192499.0,250000.0,62000.0,676000.0,163000.0,5238173.0,263000.0,130000.0,25000.0,81000.0,394000.0,81000.0,263000.0,7000.0,1103000.0,180000.0,8000.0,92000.0,1494000.0,450000.0,135000.0,240000.0,45000.0,207500.0,947320.0,294128.0,525000.0,33000.0,6574500.0,92000.0,11500.0,10554200.0,551500.0,10000.0,446000.0,1340000.0,6109896.0,250000.0,14250.0,22000.0,2005500.0,6867587.0,2883000.0,425000.0,485000.0,1978165.0,28000.0,4398000.0,119500.0,6000.0,113000.0,743000.0,201500.0,1135000.0,83000.0,43500.0,7454005.0,743000.0,4245000.0,70000.0,290500.0,2336000.0,15000.0,834000.0,1790000.0,1115000.0,1652000.0,153000.0,167000.0,280000.0,573000.0,12000.0,296500.0,250000.0,1630000.0,27500.0,65000.0,83000.0,1871600.0,119000.0,35000.0,96000.0,1748959.0,213900.0,81000.0,555000.0,100000.0,122000.0,80000.0,2028000.0,11062723.0,1872000.0,3005500.0,3005000.0,54000.0,205000.0,61000.0,185044.0,352000.0,27000.0,64000.0,485656.0,159000.0,23000.0,25000.0,3609000.0,17453500.0,66500.0,30206360.0,1265864.0,3503500.0,755000.0,50000.0,10000.0,54000.0,10000.0,115000.0,324000.0,141500.0,508000.0,506000.0,1050700.0,577000.0,785500.0,42000.0,27000.0,42000.0,39500.0,109000.0,73000.0,15000.0,9500.0,2367048.0,811000.0,17000.0,606500.0,370000.0,32000.0,1321000.0,30000.0,1813778.0,59500.0,1616500.0,73625.0,45000.0,4061500.0,738000.0,47000.0,343402.0,577500.0,28500.0,6878272.0,37500.0,148500.0,100000.0,175000.0,247000.0,95000.0,8465000.0,481500.0,70000.0,406500.0,54900.0,595000.0,629000.0,50000.0,11000.0,531000.0,250000.0,459000.0,2901000.0,238135.0,291000.0,92479.0,17576500.0,239000.0,2308800.0,1121884.0,557000.0,284500.0,15062000.0,525000.0,160000.0,229000.0,388500.0,545000.0,115000.0,10000.0,22000.0,20000.0,11500.0,65000.0,218000.0,2640433.0,750139.0,253000.0,6057500.0,1905000.0,7794727.0,631000.0,61500.0,179500.0,1647256.0,160000.0,3864000.0,2239200.0,15000.0,43000.0,163000.0,67000.0,73000.0,13342833.0,41500.0,9684508.0,37000.0,35000.0,250000.0,485000.0,356500.0,1531000.0,408000.0,5433400.0,740000.0,42500.0,184000.0,131000.0,14000.0,48500.0,647000.0,2319613.0,95000.0,471000.0,915000.0,125000.0,31000.0,400000.0,550000.0,206499.0,112000.0,17000.0,144000.0,862500.0,89500.0,1197.0,2090000.0,3721500.0,141000.0,742973.0,35000.0,224000.0,195000.0,430000.0,368000.0,2330846.0,12061601.0,95000.0,50000.0,209000.0,153000.0,47000.0]}],                        {\"legend\":{\"tracegroupgap\":0},\"template\":{\"data\":{\"bar\":[{\"error_x\":{\"color\":\"#2a3f5f\"},\"error_y\":{\"color\":\"#2a3f5f\"},\"marker\":{\"line\":{\"color\":\"#E5ECF6\",\"width\":0.5},\"pattern\":{\"fillmode\":\"overlay\",\"size\":10,\"solidity\":0.2}},\"type\":\"bar\"}],\"barpolar\":[{\"marker\":{\"line\":{\"color\":\"#E5ECF6\",\"width\":0.5},\"pattern\":{\"fillmode\":\"overlay\",\"size\":10,\"solidity\":0.2}},\"type\":\"barpolar\"}],\"carpet\":[{\"aaxis\":{\"endlinecolor\":\"#2a3f5f\",\"gridcolor\":\"white\",\"linecolor\":\"white\",\"minorgridcolor\":\"white\",\"startlinecolor\":\"#2a3f5f\"},\"baxis\":{\"endlinecolor\":\"#2a3f5f\",\"gridcolor\":\"white\",\"linecolor\":\"white\",\"minorgridcolor\":\"white\",\"startlinecolor\":\"#2a3f5f\"},\"type\":\"carpet\"}],\"choropleth\":[{\"colorbar\":{\"outlinewidth\":0,\"ticks\":\"\"},\"type\":\"choropleth\"}],\"contour\":[{\"colorbar\":{\"outlinewidth\":0,\"ticks\":\"\"},\"colorscale\":[[0.0,\"#0d0887\"],[0.1111111111111111,\"#46039f\"],[0.2222222222222222,\"#7201a8\"],[0.3333333333333333,\"#9c179e\"],[0.4444444444444444,\"#bd3786\"],[0.5555555555555556,\"#d8576b\"],[0.6666666666666666,\"#ed7953\"],[0.7777777777777778,\"#fb9f3a\"],[0.8888888888888888,\"#fdca26\"],[1.0,\"#f0f921\"]],\"type\":\"contour\"}],\"contourcarpet\":[{\"colorbar\":{\"outlinewidth\":0,\"ticks\":\"\"},\"type\":\"contourcarpet\"}],\"heatmap\":[{\"colorbar\":{\"outlinewidth\":0,\"ticks\":\"\"},\"colorscale\":[[0.0,\"#0d0887\"],[0.1111111111111111,\"#46039f\"],[0.2222222222222222,\"#7201a8\"],[0.3333333333333333,\"#9c179e\"],[0.4444444444444444,\"#bd3786\"],[0.5555555555555556,\"#d8576b\"],[0.6666666666666666,\"#ed7953\"],[0.7777777777777778,\"#fb9f3a\"],[0.8888888888888888,\"#fdca26\"],[1.0,\"#f0f921\"]],\"type\":\"heatmap\"}],\"heatmapgl\":[{\"colorbar\":{\"outlinewidth\":0,\"ticks\":\"\"},\"colorscale\":[[0.0,\"#0d0887\"],[0.1111111111111111,\"#46039f\"],[0.2222222222222222,\"#7201a8\"],[0.3333333333333333,\"#9c179e\"],[0.4444444444444444,\"#bd3786\"],[0.5555555555555556,\"#d8576b\"],[0.6666666666666666,\"#ed7953\"],[0.7777777777777778,\"#fb9f3a\"],[0.8888888888888888,\"#fdca26\"],[1.0,\"#f0f921\"]],\"type\":\"heatmapgl\"}],\"histogram\":[{\"marker\":{\"pattern\":{\"fillmode\":\"overlay\",\"size\":10,\"solidity\":0.2}},\"type\":\"histogram\"}],\"histogram2d\":[{\"colorbar\":{\"outlinewidth\":0,\"ticks\":\"\"},\"colorscale\":[[0.0,\"#0d0887\"],[0.1111111111111111,\"#46039f\"],[0.2222222222222222,\"#7201a8\"],[0.3333333333333333,\"#9c179e\"],[0.4444444444444444,\"#bd3786\"],[0.5555555555555556,\"#d8576b\"],[0.6666666666666666,\"#ed7953\"],[0.7777777777777778,\"#fb9f3a\"],[0.8888888888888888,\"#fdca26\"],[1.0,\"#f0f921\"]],\"type\":\"histogram2d\"}],\"histogram2dcontour\":[{\"colorbar\":{\"outlinewidth\":0,\"ticks\":\"\"},\"colorscale\":[[0.0,\"#0d0887\"],[0.1111111111111111,\"#46039f\"],[0.2222222222222222,\"#7201a8\"],[0.3333333333333333,\"#9c179e\"],[0.4444444444444444,\"#bd3786\"],[0.5555555555555556,\"#d8576b\"],[0.6666666666666666,\"#ed7953\"],[0.7777777777777778,\"#fb9f3a\"],[0.8888888888888888,\"#fdca26\"],[1.0,\"#f0f921\"]],\"type\":\"histogram2dcontour\"}],\"mesh3d\":[{\"colorbar\":{\"outlinewidth\":0,\"ticks\":\"\"},\"type\":\"mesh3d\"}],\"parcoords\":[{\"line\":{\"colorbar\":{\"outlinewidth\":0,\"ticks\":\"\"}},\"type\":\"parcoords\"}],\"pie\":[{\"automargin\":true,\"type\":\"pie\"}],\"scatter\":[{\"marker\":{\"colorbar\":{\"outlinewidth\":0,\"ticks\":\"\"}},\"type\":\"scatter\"}],\"scatter3d\":[{\"line\":{\"colorbar\":{\"outlinewidth\":0,\"ticks\":\"\"}},\"marker\":{\"colorbar\":{\"outlinewidth\":0,\"ticks\":\"\"}},\"type\":\"scatter3d\"}],\"scattercarpet\":[{\"marker\":{\"colorbar\":{\"outlinewidth\":0,\"ticks\":\"\"}},\"type\":\"scattercarpet\"}],\"scattergeo\":[{\"marker\":{\"colorbar\":{\"outlinewidth\":0,\"ticks\":\"\"}},\"type\":\"scattergeo\"}],\"scattergl\":[{\"marker\":{\"colorbar\":{\"outlinewidth\":0,\"ticks\":\"\"}},\"type\":\"scattergl\"}],\"scattermapbox\":[{\"marker\":{\"colorbar\":{\"outlinewidth\":0,\"ticks\":\"\"}},\"type\":\"scattermapbox\"}],\"scatterpolar\":[{\"marker\":{\"colorbar\":{\"outlinewidth\":0,\"ticks\":\"\"}},\"type\":\"scatterpolar\"}],\"scatterpolargl\":[{\"marker\":{\"colorbar\":{\"outlinewidth\":0,\"ticks\":\"\"}},\"type\":\"scatterpolargl\"}],\"scatterternary\":[{\"marker\":{\"colorbar\":{\"outlinewidth\":0,\"ticks\":\"\"}},\"type\":\"scatterternary\"}],\"surface\":[{\"colorbar\":{\"outlinewidth\":0,\"ticks\":\"\"},\"colorscale\":[[0.0,\"#0d0887\"],[0.1111111111111111,\"#46039f\"],[0.2222222222222222,\"#7201a8\"],[0.3333333333333333,\"#9c179e\"],[0.4444444444444444,\"#bd3786\"],[0.5555555555555556,\"#d8576b\"],[0.6666666666666666,\"#ed7953\"],[0.7777777777777778,\"#fb9f3a\"],[0.8888888888888888,\"#fdca26\"],[1.0,\"#f0f921\"]],\"type\":\"surface\"}],\"table\":[{\"cells\":{\"fill\":{\"color\":\"#EBF0F8\"},\"line\":{\"color\":\"white\"}},\"header\":{\"fill\":{\"color\":\"#C8D4E3\"},\"line\":{\"color\":\"white\"}},\"type\":\"table\"}]},\"layout\":{\"annotationdefaults\":{\"arrowcolor\":\"#2a3f5f\",\"arrowhead\":0,\"arrowwidth\":1},\"autotypenumbers\":\"strict\",\"coloraxis\":{\"colorbar\":{\"outlinewidth\":0,\"ticks\":\"\"}},\"colorscale\":{\"diverging\":[[0,\"#8e0152\"],[0.1,\"#c51b7d\"],[0.2,\"#de77ae\"],[0.3,\"#f1b6da\"],[0.4,\"#fde0ef\"],[0.5,\"#f7f7f7\"],[0.6,\"#e6f5d0\"],[0.7,\"#b8e186\"],[0.8,\"#7fbc41\"],[0.9,\"#4d9221\"],[1,\"#276419\"]],\"sequential\":[[0.0,\"#0d0887\"],[0.1111111111111111,\"#46039f\"],[0.2222222222222222,\"#7201a8\"],[0.3333333333333333,\"#9c179e\"],[0.4444444444444444,\"#bd3786\"],[0.5555555555555556,\"#d8576b\"],[0.6666666666666666,\"#ed7953\"],[0.7777777777777778,\"#fb9f3a\"],[0.8888888888888888,\"#fdca26\"],[1.0,\"#f0f921\"]],\"sequentialminus\":[[0.0,\"#0d0887\"],[0.1111111111111111,\"#46039f\"],[0.2222222222222222,\"#7201a8\"],[0.3333333333333333,\"#9c179e\"],[0.4444444444444444,\"#bd3786\"],[0.5555555555555556,\"#d8576b\"],[0.6666666666666666,\"#ed7953\"],[0.7777777777777778,\"#fb9f3a\"],[0.8888888888888888,\"#fdca26\"],[1.0,\"#f0f921\"]]},\"colorway\":[\"#636efa\",\"#EF553B\",\"#00cc96\",\"#ab63fa\",\"#FFA15A\",\"#19d3f3\",\"#FF6692\",\"#B6E880\",\"#FF97FF\",\"#FECB52\"],\"font\":{\"color\":\"#2a3f5f\"},\"geo\":{\"bgcolor\":\"white\",\"lakecolor\":\"white\",\"landcolor\":\"#E5ECF6\",\"showlakes\":true,\"showland\":true,\"subunitcolor\":\"white\"},\"hoverlabel\":{\"align\":\"left\"},\"hovermode\":\"closest\",\"mapbox\":{\"style\":\"light\"},\"paper_bgcolor\":\"white\",\"plot_bgcolor\":\"#E5ECF6\",\"polar\":{\"angularaxis\":{\"gridcolor\":\"white\",\"linecolor\":\"white\",\"ticks\":\"\"},\"bgcolor\":\"#E5ECF6\",\"radialaxis\":{\"gridcolor\":\"white\",\"linecolor\":\"white\",\"ticks\":\"\"}},\"scene\":{\"xaxis\":{\"backgroundcolor\":\"#E5ECF6\",\"gridcolor\":\"white\",\"gridwidth\":2,\"linecolor\":\"white\",\"showbackground\":true,\"ticks\":\"\",\"zerolinecolor\":\"white\"},\"yaxis\":{\"backgroundcolor\":\"#E5ECF6\",\"gridcolor\":\"white\",\"gridwidth\":2,\"linecolor\":\"white\",\"showbackground\":true,\"ticks\":\"\",\"zerolinecolor\":\"white\"},\"zaxis\":{\"backgroundcolor\":\"#E5ECF6\",\"gridcolor\":\"white\",\"gridwidth\":2,\"linecolor\":\"white\",\"showbackground\":true,\"ticks\":\"\",\"zerolinecolor\":\"white\"}},\"shapedefaults\":{\"line\":{\"color\":\"#2a3f5f\"}},\"ternary\":{\"aaxis\":{\"gridcolor\":\"white\",\"linecolor\":\"white\",\"ticks\":\"\"},\"baxis\":{\"gridcolor\":\"white\",\"linecolor\":\"white\",\"ticks\":\"\"},\"bgcolor\":\"#E5ECF6\",\"caxis\":{\"gridcolor\":\"white\",\"linecolor\":\"white\",\"ticks\":\"\"}},\"title\":{\"x\":0.05},\"xaxis\":{\"automargin\":true,\"gridcolor\":\"white\",\"linecolor\":\"white\",\"ticks\":\"\",\"title\":{\"standoff\":15},\"zerolinecolor\":\"white\",\"zerolinewidth\":2},\"yaxis\":{\"automargin\":true,\"gridcolor\":\"white\",\"linecolor\":\"white\",\"ticks\":\"\",\"title\":{\"standoff\":15},\"zerolinecolor\":\"white\",\"zerolinewidth\":2}}},\"title\":{\"text\":\"Price vs Type\"}},                        {\"responsive\": true}                    ).then(function(){\n",
       "                            \n",
       "var gd = document.getElementById('022ce758-94d7-4fa2-9650-5230e2fa3124');\n",
       "var x = new MutationObserver(function (mutations, observer) {{\n",
       "        var display = window.getComputedStyle(gd).display;\n",
       "        if (!display || display === 'none') {{\n",
       "            console.log([gd, 'removed!']);\n",
       "            Plotly.purge(gd);\n",
       "            observer.disconnect();\n",
       "        }}\n",
       "}});\n",
       "\n",
       "// Listen for the removal of the full notebook cells\n",
       "var notebookContainer = gd.closest('#notebook-container');\n",
       "if (notebookContainer) {{\n",
       "    x.observe(notebookContainer, {childList: true});\n",
       "}}\n",
       "\n",
       "// Listen for the clearing of the current output cell\n",
       "var outputEl = gd.closest('.output');\n",
       "if (outputEl) {{\n",
       "    x.observe(outputEl, {childList: true});\n",
       "}}\n",
       "\n",
       "                        })                };                });            </script>        </div>"
      ]
     },
     "metadata": {},
     "output_type": "display_data"
    }
   ],
   "source": [
    "import plotly.express as px\n",
    "\n",
    "px.treemap(cars.groupby(by='Type').sum().reset_index(), path=['Type'], labels='Type', \n",
    "           values='Price', title='Price vs Type')"
   ]
  },
  {
   "cell_type": "markdown",
   "metadata": {},
   "source": [
    "From the above bar graph it can be easily visulaized that Land Crusier , Range Rover, LX , Tahoe and Yukon are very expensive used cars in Saudi Arabia   "
   ]
  },
  {
   "cell_type": "code",
   "execution_count": 704,
   "metadata": {},
   "outputs": [
    {
     "data": {
      "image/png": "[encoded data removed]",
      "text/plain": [
       "<Figure size 432x288 with 1 Axes>"
      ]
     },
     "metadata": {
      "needs_background": "light"
     },
     "output_type": "display_data"
    }
   ],
   "source": [
    "ax = sns.countplot(x=\"Gear_Type\", data=cars,\n",
    "                   facecolor=(0, 0, 0, 0),\n",
    "                 linewidth=5,\n",
    "                  edgecolor=sns.color_palette(\"dark\", 3))\n"
   ]
  },
  {
   "cell_type": "markdown",
   "metadata": {},
   "source": [
    "This diagram will help in determing how Automatic Gear type used with more than 7000 cars. Along with that there is a low of using Manual cars\n",
    "\n"
   ]
  },
  {
   "cell_type": "code",
   "execution_count": 705,
   "metadata": {},
   "outputs": [
    {
     "data": {
      "image/png": "[encoded data removed]",
      "text/plain": [
       "<Figure size 576x360 with 1 Axes>"
      ]
     },
     "metadata": {
      "needs_background": "light"
     },
     "output_type": "display_data"
    }
   ],
   "source": [
    "plt.rcParams['figure.figsize'] = [8,5]\n",
    "plt.xlabel('Options')\n",
    "plt.ylabel('Price')\n",
    "sns.barplot(x=\"Options\", y=\"Price\", data=cars)\n",
    "plt.show()"
   ]
  },
  {
   "cell_type": "code",
   "execution_count": 706,
   "metadata": {},
   "outputs": [
    {
     "data": {
      "image/png": "[encoded data removed]",
      "text/plain": [
       "<Figure size 576x360 with 1 Axes>"
      ]
     },
     "metadata": {
      "needs_background": "light"
     },
     "output_type": "display_data"
    }
   ],
   "source": [
    "option= cars.groupby('Options')['Options'].count()\n",
    "option = pd.DataFrame(option)\n",
    "option.columns = ['Option Counts']\n",
    "option.sort_values(by=['Option Counts'], inplace=True, ascending=False)\n",
    "option = option.head(5)\n",
    "\n",
    "option.plot.bar();\n",
    "\n",
    "plt.title('Preferred Options')\n",
    "\n",
    "plt.xlabel('Options')\n",
    "plt.ylabel('No. of Cars');"
   ]
  },
  {
   "cell_type": "raw",
   "metadata": {},
   "source": []
  },
  {
   "cell_type": "markdown",
   "metadata": {},
   "source": [
    "From the above bar graph it can be easily visulaized that the people in Saudi prefer to drive Full cars. Semi Full cars have the lowest numbers of drivers in Saudi as this fuel is not available in abundant in Saudi"
   ]
  },
  {
   "cell_type": "code",
   "execution_count": 707,
   "metadata": {},
   "outputs": [
    {
     "data": {
      "image/png": "[encoded data removed]",
      "text/plain": [
       "<Figure size 576x360 with 1 Axes>"
      ]
     },
     "metadata": {
      "needs_background": "light"
     },
     "output_type": "display_data"
    }
   ],
   "source": [
    "sns.scatterplot(x=cars.Year, y=cars['Mileage'], hue=cars.Options, s=40);\n",
    "\n"
   ]
  },
  {
   "cell_type": "markdown",
   "metadata": {},
   "source": [
    "The above scatterplot shows that Saudi people like to drive cars of the used models i.e. released between 1970 and 2020. For the cars between 1980 and 2000 models, the preferred Options was standers as it is the cheapest available in Saudi. For the 2000 - 2020 model cars, the people tend to shift to the Full cars due to the shortage of standers in saudi lately"
   ]
  },
  {
   "cell_type": "code",
   "execution_count": 708,
   "metadata": {},
   "outputs": [
    {
     "data": {
      "application/vnd.plotly.v1+json": {
       "config": {
        "plotlyServerURL": "https://plot.ly"
       },
       "data": [
        {
         "branchvalues": "total",
         "domain": {
          "x": [
           0,
           1
          ],
          "y": [
           0,
           1
          ]
         },
         "hovertemplate": "labels=%{label}<br>Price=%{value}<br>parent=%{parent}<br>id=%{id}<extra></extra>",
         "ids": [
          "Abha",
          "Al-Ahsa",
          "Al-Baha",
          "Al-Jouf",
          "Al-Medina",
          "Al-Namas",
          "Arar",
          "Aseer",
          "Besha",
          "Dammam",
          "Hafar Al-Batin",
          "Hail",
          "Jazan",
          "Jeddah",
          "Jubail",
          "Khobar",
          "Makkah",
          "Najran",
          "Qassim",
          "Qurayyat",
          "Riyadh",
          "Sabya",
          "Sakaka",
          "Tabouk",
          "Taef",
          "Wadi Dawasir",
          "Yanbu"
         ],
         "labels": [
          "Abha",
          "Al-Ahsa",
          "Al-Baha",
          "Al-Jouf",
          "Al-Medina",
          "Al-Namas",
          "Arar",
          "Aseer",
          "Besha",
          "Dammam",
          "Hafar Al-Batin",
          "Hail",
          "Jazan",
          "Jeddah",
          "Jubail",
          "Khobar",
          "Makkah",
          "Najran",
          "Qassim",
          "Qurayyat",
          "Riyadh",
          "Sabya",
          "Sakaka",
          "Tabouk",
          "Taef",
          "Wadi Dawasir",
          "Yanbu"
         ],
         "name": "",
         "parents": [
          "",
          "",
          "",
          "",
          "",
          "",
          "",
          "",
          "",
          "",
          "",
          "",
          "",
          "",
          "",
          "",
          "",
          "",
          "",
          "",
          "",
          "",
          "",
          "",
          "",
          "",
          ""
         ],
         "type": "treemap",
         "values": [
          2222510,
          10529588,
          1353000,
          1098824,
          9820655,
          548000,
          840584,
          8665093,
          314000,
          104245245,
          1495757,
          1758404,
          3273413,
          58580311,
          2514849,
          4614462,
          9049080,
          1225254,
          11917965,
          279000,
          186396782,
          52000,
          342000,
          3263695,
          4125290,
          289000,
          1093000
         ]
        }
       ],
       "layout": {
        "legend": {
         "tracegroupgap": 0
        },
        "template": {
         "data": {
          "bar": [
           {
            "error_x": {
             "color": "#2a3f5f"
            },
            "error_y": {
             "color": "#2a3f5f"
            },
            "marker": {
             "line": {
              "color": "#E5ECF6",
              "width": 0.5
             },
             "pattern": {
              "fillmode": "overlay",
              "size": 10,
              "solidity": 0.2
             }
            },
            "type": "bar"
           }
          ],
          "barpolar": [
           {
            "marker": {
             "line": {
              "color": "#E5ECF6",
              "width": 0.5
             },
             "pattern": {
              "fillmode": "overlay",
              "size": 10,
              "solidity": 0.2
             }
            },
            "type": "barpolar"
           }
          ],
          "carpet": [
           {
            "aaxis": {
             "endlinecolor": "#2a3f5f",
             "gridcolor": "white",
             "linecolor": "white",
             "minorgridcolor": "white",
             "startlinecolor": "#2a3f5f"
            },
            "baxis": {
             "endlinecolor": "#2a3f5f",
             "gridcolor": "white",
             "linecolor": "white",
             "minorgridcolor": "white",
             "startlinecolor": "#2a3f5f"
            },
            "type": "carpet"
           }
          ],
          "choropleth": [
           {
            "colorbar": {
             "outlinewidth": 0,
             "ticks": ""
            },
            "type": "choropleth"
           }
          ],
          "contour": [
           {
            "colorbar": {
             "outlinewidth": 0,
             "ticks": ""
            },
            "colorscale": [
             [
              0,
              "#0d0887"
             ],
             [
              0.1111111111111111,
              "#46039f"
             ],
             [
              0.2222222222222222,
              "#7201a8"
             ],
             [
              0.3333333333333333,
              "#9c179e"
             ],
             [
              0.4444444444444444,
              "#bd3786"
             ],
             [
              0.5555555555555556,
              "#d8576b"
             ],
             [
              0.6666666666666666,
              "#ed7953"
             ],
             [
              0.7777777777777778,
              "#fb9f3a"
             ],
             [
              0.8888888888888888,
              "#fdca26"
             ],
             [
              1,
              "#f0f921"
             ]
            ],
            "type": "contour"
           }
          ],
          "contourcarpet": [
           {
            "colorbar": {
             "outlinewidth": 0,
             "ticks": ""
            },
            "type": "contourcarpet"
           }
          ],
          "heatmap": [
           {
            "colorbar": {
             "outlinewidth": 0,
             "ticks": ""
            },
            "colorscale": [
             [
              0,
              "#0d0887"
             ],
             [
              0.1111111111111111,
              "#46039f"
             ],
             [
              0.2222222222222222,
              "#7201a8"
             ],
             [
              0.3333333333333333,
              "#9c179e"
             ],
             [
              0.4444444444444444,
              "#bd3786"
             ],
             [
              0.5555555555555556,
              "#d8576b"
             ],
             [
              0.6666666666666666,
              "#ed7953"
             ],
             [
              0.7777777777777778,
              "#fb9f3a"
             ],
             [
              0.8888888888888888,
              "#fdca26"
             ],
             [
              1,
              "#f0f921"
             ]
            ],
            "type": "heatmap"
           }
          ],
          "heatmapgl": [
           {
            "colorbar": {
             "outlinewidth": 0,
             "ticks": ""
            },
            "colorscale": [
             [
              0,
              "#0d0887"
             ],
             [
              0.1111111111111111,
              "#46039f"
             ],
             [
              0.2222222222222222,
              "#7201a8"
             ],
             [
              0.3333333333333333,
              "#9c179e"
             ],
             [
              0.4444444444444444,
              "#bd3786"
             ],
             [
              0.5555555555555556,
              "#d8576b"
             ],
             [
              0.6666666666666666,
              "#ed7953"
             ],
             [
              0.7777777777777778,
              "#fb9f3a"
             ],
             [
              0.8888888888888888,
              "#fdca26"
             ],
             [
              1,
              "#f0f921"
             ]
            ],
            "type": "heatmapgl"
           }
          ],
          "histogram": [
           {
            "marker": {
             "pattern": {
              "fillmode": "overlay",
              "size": 10,
              "solidity": 0.2
             }
            },
            "type": "histogram"
           }
          ],
          "histogram2d": [
           {
            "colorbar": {
             "outlinewidth": 0,
             "ticks": ""
            },
            "colorscale": [
             [
              0,
              "#0d0887"
             ],
             [
              0.1111111111111111,
              "#46039f"
             ],
             [
              0.2222222222222222,
              "#7201a8"
             ],
             [
              0.3333333333333333,
              "#9c179e"
             ],
             [
              0.4444444444444444,
              "#bd3786"
             ],
             [
              0.5555555555555556,
              "#d8576b"
             ],
             [
              0.6666666666666666,
              "#ed7953"
             ],
             [
              0.7777777777777778,
              "#fb9f3a"
             ],
             [
              0.8888888888888888,
              "#fdca26"
             ],
             [
              1,
              "#f0f921"
             ]
            ],
            "type": "histogram2d"
           }
          ],
          "histogram2dcontour": [
           {
            "colorbar": {
             "outlinewidth": 0,
             "ticks": ""
            },
            "colorscale": [
             [
              0,
              "#0d0887"
             ],
             [
              0.1111111111111111,
              "#46039f"
             ],
             [
              0.2222222222222222,
              "#7201a8"
             ],
             [
              0.3333333333333333,
              "#9c179e"
             ],
             [
              0.4444444444444444,
              "#bd3786"
             ],
             [
              0.5555555555555556,
              "#d8576b"
             ],
             [
              0.6666666666666666,
              "#ed7953"
             ],
             [
              0.7777777777777778,
              "#fb9f3a"
             ],
             [
              0.8888888888888888,
              "#fdca26"
             ],
             [
              1,
              "#f0f921"
             ]
            ],
            "type": "histogram2dcontour"
           }
          ],
          "mesh3d": [
           {
            "colorbar": {
             "outlinewidth": 0,
             "ticks": ""
            },
            "type": "mesh3d"
           }
          ],
          "parcoords": [
           {
            "line": {
             "colorbar": {
              "outlinewidth": 0,
              "ticks": ""
             }
            },
            "type": "parcoords"
           }
          ],
          "pie": [
           {
            "automargin": true,
            "type": "pie"
           }
          ],
          "scatter": [
           {
            "marker": {
             "colorbar": {
              "outlinewidth": 0,
              "ticks": ""
             }
            },
            "type": "scatter"
           }
          ],
          "scatter3d": [
           {
            "line": {
             "colorbar": {
              "outlinewidth": 0,
              "ticks": ""
             }
            },
            "marker": {
             "colorbar": {
              "outlinewidth": 0,
              "ticks": ""
             }
            },
            "type": "scatter3d"
           }
          ],
          "scattercarpet": [
           {
            "marker": {
             "colorbar": {
              "outlinewidth": 0,
              "ticks": ""
             }
            },
            "type": "scattercarpet"
           }
          ],
          "scattergeo": [
           {
            "marker": {
             "colorbar": {
              "outlinewidth": 0,
              "ticks": ""
             }
            },
            "type": "scattergeo"
           }
          ],
          "scattergl": [
           {
            "marker": {
             "colorbar": {
              "outlinewidth": 0,
              "ticks": ""
             }
            },
            "type": "scattergl"
           }
          ],
          "scattermapbox": [
           {
            "marker": {
             "colorbar": {
              "outlinewidth": 0,
              "ticks": ""
             }
            },
            "type": "scattermapbox"
           }
          ],
          "scatterpolar": [
           {
            "marker": {
             "colorbar": {
              "outlinewidth": 0,
              "ticks": ""
             }
            },
            "type": "scatterpolar"
           }
          ],
          "scatterpolargl": [
           {
            "marker": {
             "colorbar": {
              "outlinewidth": 0,
              "ticks": ""
             }
            },
            "type": "scatterpolargl"
           }
          ],
          "scatterternary": [
           {
            "marker": {
             "colorbar": {
              "outlinewidth": 0,
              "ticks": ""
             }
            },
            "type": "scatterternary"
           }
          ],
          "surface": [
           {
            "colorbar": {
             "outlinewidth": 0,
             "ticks": ""
            },
            "colorscale": [
             [
              0,
              "#0d0887"
             ],
             [
              0.1111111111111111,
              "#46039f"
             ],
             [
              0.2222222222222222,
              "#7201a8"
             ],
             [
              0.3333333333333333,
              "#9c179e"
             ],
             [
              0.4444444444444444,
              "#bd3786"
             ],
             [
              0.5555555555555556,
              "#d8576b"
             ],
             [
              0.6666666666666666,
              "#ed7953"
             ],
             [
              0.7777777777777778,
              "#fb9f3a"
             ],
             [
              0.8888888888888888,
              "#fdca26"
             ],
             [
              1,
              "#f0f921"
             ]
            ],
            "type": "surface"
           }
          ],
          "table": [
           {
            "cells": {
             "fill": {
              "color": "#EBF0F8"
             },
             "line": {
              "color": "white"
             }
            },
            "header": {
             "fill": {
              "color": "#C8D4E3"
             },
             "line": {
              "color": "white"
             }
            },
            "type": "table"
           }
          ]
         },
         "layout": {
          "annotationdefaults": {
           "arrowcolor": "#2a3f5f",
           "arrowhead": 0,
           "arrowwidth": 1
          },
          "autotypenumbers": "strict",
          "coloraxis": {
           "colorbar": {
            "outlinewidth": 0,
            "ticks": ""
           }
          },
          "colorscale": {
           "diverging": [
            [
             0,
             "#8e0152"
            ],
            [
             0.1,
             "#c51b7d"
            ],
            [
             0.2,
             "#de77ae"
            ],
            [
             0.3,
             "#f1b6da"
            ],
            [
             0.4,
             "#fde0ef"
            ],
            [
             0.5,
             "#f7f7f7"
            ],
            [
             0.6,
             "#e6f5d0"
            ],
            [
             0.7,
             "#b8e186"
            ],
            [
             0.8,
             "#7fbc41"
            ],
            [
             0.9,
             "#4d9221"
            ],
            [
             1,
             "#276419"
            ]
           ],
           "sequential": [
            [
             0,
             "#0d0887"
            ],
            [
             0.1111111111111111,
             "#46039f"
            ],
            [
             0.2222222222222222,
             "#7201a8"
            ],
            [
             0.3333333333333333,
             "#9c179e"
            ],
            [
             0.4444444444444444,
             "#bd3786"
            ],
            [
             0.5555555555555556,
             "#d8576b"
            ],
            [
             0.6666666666666666,
             "#ed7953"
            ],
            [
             0.7777777777777778,
             "#fb9f3a"
            ],
            [
             0.8888888888888888,
             "#fdca26"
            ],
            [
             1,
             "#f0f921"
            ]
           ],
           "sequentialminus": [
            [
             0,
             "#0d0887"
            ],
            [
             0.1111111111111111,
             "#46039f"
            ],
            [
             0.2222222222222222,
             "#7201a8"
            ],
            [
             0.3333333333333333,
             "#9c179e"
            ],
            [
             0.4444444444444444,
             "#bd3786"
            ],
            [
             0.5555555555555556,
             "#d8576b"
            ],
            [
             0.6666666666666666,
             "#ed7953"
            ],
            [
             0.7777777777777778,
             "#fb9f3a"
            ],
            [
             0.8888888888888888,
             "#fdca26"
            ],
            [
             1,
             "#f0f921"
            ]
           ]
          },
          "colorway": [
           "#636efa",
           "#EF553B",
           "#00cc96",
           "#ab63fa",
           "#FFA15A",
           "#19d3f3",
           "#FF6692",
           "#B6E880",
           "#FF97FF",
           "#FECB52"
          ],
          "font": {
           "color": "#2a3f5f"
          },
          "geo": {
           "bgcolor": "white",
           "lakecolor": "white",
           "landcolor": "#E5ECF6",
           "showlakes": true,
           "showland": true,
           "subunitcolor": "white"
          },
          "hoverlabel": {
           "align": "left"
          },
          "hovermode": "closest",
          "mapbox": {
           "style": "light"
          },
          "paper_bgcolor": "white",
          "plot_bgcolor": "#E5ECF6",
          "polar": {
           "angularaxis": {
            "gridcolor": "white",
            "linecolor": "white",
            "ticks": ""
           },
           "bgcolor": "#E5ECF6",
           "radialaxis": {
            "gridcolor": "white",
            "linecolor": "white",
            "ticks": ""
           }
          },
          "scene": {
           "xaxis": {
            "backgroundcolor": "#E5ECF6",
            "gridcolor": "white",
            "gridwidth": 2,
            "linecolor": "white",
            "showbackground": true,
            "ticks": "",
            "zerolinecolor": "white"
           },
           "yaxis": {
            "backgroundcolor": "#E5ECF6",
            "gridcolor": "white",
            "gridwidth": 2,
            "linecolor": "white",
            "showbackground": true,
            "ticks": "",
            "zerolinecolor": "white"
           },
           "zaxis": {
            "backgroundcolor": "#E5ECF6",
            "gridcolor": "white",
            "gridwidth": 2,
            "linecolor": "white",
            "showbackground": true,
            "ticks": "",
            "zerolinecolor": "white"
           }
          },
          "shapedefaults": {
           "line": {
            "color": "#2a3f5f"
           }
          },
          "ternary": {
           "aaxis": {
            "gridcolor": "white",
            "linecolor": "white",
            "ticks": ""
           },
           "baxis": {
            "gridcolor": "white",
            "linecolor": "white",
            "ticks": ""
           },
           "bgcolor": "#E5ECF6",
           "caxis": {
            "gridcolor": "white",
            "linecolor": "white",
            "ticks": ""
           }
          },
          "title": {
           "x": 0.05
          },
          "xaxis": {
           "automargin": true,
           "gridcolor": "white",
           "linecolor": "white",
           "ticks": "",
           "title": {
            "standoff": 15
           },
           "zerolinecolor": "white",
           "zerolinewidth": 2
          },
          "yaxis": {
           "automargin": true,
           "gridcolor": "white",
           "linecolor": "white",
           "ticks": "",
           "title": {
            "standoff": 15
           },
           "zerolinecolor": "white",
           "zerolinewidth": 2
          }
         }
        },
        "title": {
         "text": "Price vs Region"
        }
       }
      },
      "text/html": [
       "<div>                            <div id=\"9c54f4d2-6ca6-4d5e-a838-99ed0a6d7023\" class=\"plotly-graph-div\" style=\"height:525px; width:100%;\"></div>            <script type=\"text/javascript\">                require([\"plotly\"], function(Plotly) {                    window.PLOTLYENV=window.PLOTLYENV || {};                                    if (document.getElementById(\"9c54f4d2-6ca6-4d5e-a838-99ed0a6d7023\")) {                    Plotly.newPlot(                        \"9c54f4d2-6ca6-4d5e-a838-99ed0a6d7023\",                        [{\"branchvalues\":\"total\",\"domain\":{\"x\":[0.0,1.0],\"y\":[0.0,1.0]},\"hovertemplate\":\"labels=%{label}<br>Price=%{value}<br>parent=%{parent}<br>id=%{id}<extra></extra>\",\"ids\":[\"Abha\",\"Al-Ahsa\",\"Al-Baha\",\"Al-Jouf\",\"Al-Medina\",\"Al-Namas\",\"Arar\",\"Aseer\",\"Besha\",\"Dammam\",\"Hafar Al-Batin\",\"Hail\",\"Jazan\",\"Jeddah\",\"Jubail\",\"Khobar\",\"Makkah\",\"Najran\",\"Qassim\",\"Qurayyat\",\"Riyadh\",\"Sabya\",\"Sakaka\",\"Tabouk\",\"Taef\",\"Wadi Dawasir\",\"Yanbu\"],\"labels\":[\"Abha\",\"Al-Ahsa\",\"Al-Baha\",\"Al-Jouf\",\"Al-Medina\",\"Al-Namas\",\"Arar\",\"Aseer\",\"Besha\",\"Dammam\",\"Hafar Al-Batin\",\"Hail\",\"Jazan\",\"Jeddah\",\"Jubail\",\"Khobar\",\"Makkah\",\"Najran\",\"Qassim\",\"Qurayyat\",\"Riyadh\",\"Sabya\",\"Sakaka\",\"Tabouk\",\"Taef\",\"Wadi Dawasir\",\"Yanbu\"],\"name\":\"\",\"parents\":[\"\",\"\",\"\",\"\",\"\",\"\",\"\",\"\",\"\",\"\",\"\",\"\",\"\",\"\",\"\",\"\",\"\",\"\",\"\",\"\",\"\",\"\",\"\",\"\",\"\",\"\",\"\"],\"type\":\"treemap\",\"values\":[2222510.0,10529588.0,1353000.0,1098824.0,9820655.0,548000.0,840584.0,8665093.0,314000.0,104245245.0,1495757.0,1758404.0,3273413.0,58580311.0,2514849.0,4614462.0,9049080.0,1225254.0,11917965.0,279000.0,186396782.0,52000.0,342000.0,3263695.0,4125290.0,289000.0,1093000.0]}],                        {\"legend\":{\"tracegroupgap\":0},\"template\":{\"data\":{\"bar\":[{\"error_x\":{\"color\":\"#2a3f5f\"},\"error_y\":{\"color\":\"#2a3f5f\"},\"marker\":{\"line\":{\"color\":\"#E5ECF6\",\"width\":0.5},\"pattern\":{\"fillmode\":\"overlay\",\"size\":10,\"solidity\":0.2}},\"type\":\"bar\"}],\"barpolar\":[{\"marker\":{\"line\":{\"color\":\"#E5ECF6\",\"width\":0.5},\"pattern\":{\"fillmode\":\"overlay\",\"size\":10,\"solidity\":0.2}},\"type\":\"barpolar\"}],\"carpet\":[{\"aaxis\":{\"endlinecolor\":\"#2a3f5f\",\"gridcolor\":\"white\",\"linecolor\":\"white\",\"minorgridcolor\":\"white\",\"startlinecolor\":\"#2a3f5f\"},\"baxis\":{\"endlinecolor\":\"#2a3f5f\",\"gridcolor\":\"white\",\"linecolor\":\"white\",\"minorgridcolor\":\"white\",\"startlinecolor\":\"#2a3f5f\"},\"type\":\"carpet\"}],\"choropleth\":[{\"colorbar\":{\"outlinewidth\":0,\"ticks\":\"\"},\"type\":\"choropleth\"}],\"contour\":[{\"colorbar\":{\"outlinewidth\":0,\"ticks\":\"\"},\"colorscale\":[[0.0,\"#0d0887\"],[0.1111111111111111,\"#46039f\"],[0.2222222222222222,\"#7201a8\"],[0.3333333333333333,\"#9c179e\"],[0.4444444444444444,\"#bd3786\"],[0.5555555555555556,\"#d8576b\"],[0.6666666666666666,\"#ed7953\"],[0.7777777777777778,\"#fb9f3a\"],[0.8888888888888888,\"#fdca26\"],[1.0,\"#f0f921\"]],\"type\":\"contour\"}],\"contourcarpet\":[{\"colorbar\":{\"outlinewidth\":0,\"ticks\":\"\"},\"type\":\"contourcarpet\"}],\"heatmap\":[{\"colorbar\":{\"outlinewidth\":0,\"ticks\":\"\"},\"colorscale\":[[0.0,\"#0d0887\"],[0.1111111111111111,\"#46039f\"],[0.2222222222222222,\"#7201a8\"],[0.3333333333333333,\"#9c179e\"],[0.4444444444444444,\"#bd3786\"],[0.5555555555555556,\"#d8576b\"],[0.6666666666666666,\"#ed7953\"],[0.7777777777777778,\"#fb9f3a\"],[0.8888888888888888,\"#fdca26\"],[1.0,\"#f0f921\"]],\"type\":\"heatmap\"}],\"heatmapgl\":[{\"colorbar\":{\"outlinewidth\":0,\"ticks\":\"\"},\"colorscale\":[[0.0,\"#0d0887\"],[0.1111111111111111,\"#46039f\"],[0.2222222222222222,\"#7201a8\"],[0.3333333333333333,\"#9c179e\"],[0.4444444444444444,\"#bd3786\"],[0.5555555555555556,\"#d8576b\"],[0.6666666666666666,\"#ed7953\"],[0.7777777777777778,\"#fb9f3a\"],[0.8888888888888888,\"#fdca26\"],[1.0,\"#f0f921\"]],\"type\":\"heatmapgl\"}],\"histogram\":[{\"marker\":{\"pattern\":{\"fillmode\":\"overlay\",\"size\":10,\"solidity\":0.2}},\"type\":\"histogram\"}],\"histogram2d\":[{\"colorbar\":{\"outlinewidth\":0,\"ticks\":\"\"},\"colorscale\":[[0.0,\"#0d0887\"],[0.1111111111111111,\"#46039f\"],[0.2222222222222222,\"#7201a8\"],[0.3333333333333333,\"#9c179e\"],[0.4444444444444444,\"#bd3786\"],[0.5555555555555556,\"#d8576b\"],[0.6666666666666666,\"#ed7953\"],[0.7777777777777778,\"#fb9f3a\"],[0.8888888888888888,\"#fdca26\"],[1.0,\"#f0f921\"]],\"type\":\"histogram2d\"}],\"histogram2dcontour\":[{\"colorbar\":{\"outlinewidth\":0,\"ticks\":\"\"},\"colorscale\":[[0.0,\"#0d0887\"],[0.1111111111111111,\"#46039f\"],[0.2222222222222222,\"#7201a8\"],[0.3333333333333333,\"#9c179e\"],[0.4444444444444444,\"#bd3786\"],[0.5555555555555556,\"#d8576b\"],[0.6666666666666666,\"#ed7953\"],[0.7777777777777778,\"#fb9f3a\"],[0.8888888888888888,\"#fdca26\"],[1.0,\"#f0f921\"]],\"type\":\"histogram2dcontour\"}],\"mesh3d\":[{\"colorbar\":{\"outlinewidth\":0,\"ticks\":\"\"},\"type\":\"mesh3d\"}],\"parcoords\":[{\"line\":{\"colorbar\":{\"outlinewidth\":0,\"ticks\":\"\"}},\"type\":\"parcoords\"}],\"pie\":[{\"automargin\":true,\"type\":\"pie\"}],\"scatter\":[{\"marker\":{\"colorbar\":{\"outlinewidth\":0,\"ticks\":\"\"}},\"type\":\"scatter\"}],\"scatter3d\":[{\"line\":{\"colorbar\":{\"outlinewidth\":0,\"ticks\":\"\"}},\"marker\":{\"colorbar\":{\"outlinewidth\":0,\"ticks\":\"\"}},\"type\":\"scatter3d\"}],\"scattercarpet\":[{\"marker\":{\"colorbar\":{\"outlinewidth\":0,\"ticks\":\"\"}},\"type\":\"scattercarpet\"}],\"scattergeo\":[{\"marker\":{\"colorbar\":{\"outlinewidth\":0,\"ticks\":\"\"}},\"type\":\"scattergeo\"}],\"scattergl\":[{\"marker\":{\"colorbar\":{\"outlinewidth\":0,\"ticks\":\"\"}},\"type\":\"scattergl\"}],\"scattermapbox\":[{\"marker\":{\"colorbar\":{\"outlinewidth\":0,\"ticks\":\"\"}},\"type\":\"scattermapbox\"}],\"scatterpolar\":[{\"marker\":{\"colorbar\":{\"outlinewidth\":0,\"ticks\":\"\"}},\"type\":\"scatterpolar\"}],\"scatterpolargl\":[{\"marker\":{\"colorbar\":{\"outlinewidth\":0,\"ticks\":\"\"}},\"type\":\"scatterpolargl\"}],\"scatterternary\":[{\"marker\":{\"colorbar\":{\"outlinewidth\":0,\"ticks\":\"\"}},\"type\":\"scatterternary\"}],\"surface\":[{\"colorbar\":{\"outlinewidth\":0,\"ticks\":\"\"},\"colorscale\":[[0.0,\"#0d0887\"],[0.1111111111111111,\"#46039f\"],[0.2222222222222222,\"#7201a8\"],[0.3333333333333333,\"#9c179e\"],[0.4444444444444444,\"#bd3786\"],[0.5555555555555556,\"#d8576b\"],[0.6666666666666666,\"#ed7953\"],[0.7777777777777778,\"#fb9f3a\"],[0.8888888888888888,\"#fdca26\"],[1.0,\"#f0f921\"]],\"type\":\"surface\"}],\"table\":[{\"cells\":{\"fill\":{\"color\":\"#EBF0F8\"},\"line\":{\"color\":\"white\"}},\"header\":{\"fill\":{\"color\":\"#C8D4E3\"},\"line\":{\"color\":\"white\"}},\"type\":\"table\"}]},\"layout\":{\"annotationdefaults\":{\"arrowcolor\":\"#2a3f5f\",\"arrowhead\":0,\"arrowwidth\":1},\"autotypenumbers\":\"strict\",\"coloraxis\":{\"colorbar\":{\"outlinewidth\":0,\"ticks\":\"\"}},\"colorscale\":{\"diverging\":[[0,\"#8e0152\"],[0.1,\"#c51b7d\"],[0.2,\"#de77ae\"],[0.3,\"#f1b6da\"],[0.4,\"#fde0ef\"],[0.5,\"#f7f7f7\"],[0.6,\"#e6f5d0\"],[0.7,\"#b8e186\"],[0.8,\"#7fbc41\"],[0.9,\"#4d9221\"],[1,\"#276419\"]],\"sequential\":[[0.0,\"#0d0887\"],[0.1111111111111111,\"#46039f\"],[0.2222222222222222,\"#7201a8\"],[0.3333333333333333,\"#9c179e\"],[0.4444444444444444,\"#bd3786\"],[0.5555555555555556,\"#d8576b\"],[0.6666666666666666,\"#ed7953\"],[0.7777777777777778,\"#fb9f3a\"],[0.8888888888888888,\"#fdca26\"],[1.0,\"#f0f921\"]],\"sequentialminus\":[[0.0,\"#0d0887\"],[0.1111111111111111,\"#46039f\"],[0.2222222222222222,\"#7201a8\"],[0.3333333333333333,\"#9c179e\"],[0.4444444444444444,\"#bd3786\"],[0.5555555555555556,\"#d8576b\"],[0.6666666666666666,\"#ed7953\"],[0.7777777777777778,\"#fb9f3a\"],[0.8888888888888888,\"#fdca26\"],[1.0,\"#f0f921\"]]},\"colorway\":[\"#636efa\",\"#EF553B\",\"#00cc96\",\"#ab63fa\",\"#FFA15A\",\"#19d3f3\",\"#FF6692\",\"#B6E880\",\"#FF97FF\",\"#FECB52\"],\"font\":{\"color\":\"#2a3f5f\"},\"geo\":{\"bgcolor\":\"white\",\"lakecolor\":\"white\",\"landcolor\":\"#E5ECF6\",\"showlakes\":true,\"showland\":true,\"subunitcolor\":\"white\"},\"hoverlabel\":{\"align\":\"left\"},\"hovermode\":\"closest\",\"mapbox\":{\"style\":\"light\"},\"paper_bgcolor\":\"white\",\"plot_bgcolor\":\"#E5ECF6\",\"polar\":{\"angularaxis\":{\"gridcolor\":\"white\",\"linecolor\":\"white\",\"ticks\":\"\"},\"bgcolor\":\"#E5ECF6\",\"radialaxis\":{\"gridcolor\":\"white\",\"linecolor\":\"white\",\"ticks\":\"\"}},\"scene\":{\"xaxis\":{\"backgroundcolor\":\"#E5ECF6\",\"gridcolor\":\"white\",\"gridwidth\":2,\"linecolor\":\"white\",\"showbackground\":true,\"ticks\":\"\",\"zerolinecolor\":\"white\"},\"yaxis\":{\"backgroundcolor\":\"#E5ECF6\",\"gridcolor\":\"white\",\"gridwidth\":2,\"linecolor\":\"white\",\"showbackground\":true,\"ticks\":\"\",\"zerolinecolor\":\"white\"},\"zaxis\":{\"backgroundcolor\":\"#E5ECF6\",\"gridcolor\":\"white\",\"gridwidth\":2,\"linecolor\":\"white\",\"showbackground\":true,\"ticks\":\"\",\"zerolinecolor\":\"white\"}},\"shapedefaults\":{\"line\":{\"color\":\"#2a3f5f\"}},\"ternary\":{\"aaxis\":{\"gridcolor\":\"white\",\"linecolor\":\"white\",\"ticks\":\"\"},\"baxis\":{\"gridcolor\":\"white\",\"linecolor\":\"white\",\"ticks\":\"\"},\"bgcolor\":\"#E5ECF6\",\"caxis\":{\"gridcolor\":\"white\",\"linecolor\":\"white\",\"ticks\":\"\"}},\"title\":{\"x\":0.05},\"xaxis\":{\"automargin\":true,\"gridcolor\":\"white\",\"linecolor\":\"white\",\"ticks\":\"\",\"title\":{\"standoff\":15},\"zerolinecolor\":\"white\",\"zerolinewidth\":2},\"yaxis\":{\"automargin\":true,\"gridcolor\":\"white\",\"linecolor\":\"white\",\"ticks\":\"\",\"title\":{\"standoff\":15},\"zerolinecolor\":\"white\",\"zerolinewidth\":2}}},\"title\":{\"text\":\"Price vs Region\"}},                        {\"responsive\": true}                    ).then(function(){\n",
       "                            \n",
       "var gd = document.getElementById('9c54f4d2-6ca6-4d5e-a838-99ed0a6d7023');\n",
       "var x = new MutationObserver(function (mutations, observer) {{\n",
       "        var display = window.getComputedStyle(gd).display;\n",
       "        if (!display || display === 'none') {{\n",
       "            console.log([gd, 'removed!']);\n",
       "            Plotly.purge(gd);\n",
       "            observer.disconnect();\n",
       "        }}\n",
       "}});\n",
       "\n",
       "// Listen for the removal of the full notebook cells\n",
       "var notebookContainer = gd.closest('#notebook-container');\n",
       "if (notebookContainer) {{\n",
       "    x.observe(notebookContainer, {childList: true});\n",
       "}}\n",
       "\n",
       "// Listen for the clearing of the current output cell\n",
       "var outputEl = gd.closest('.output');\n",
       "if (outputEl) {{\n",
       "    x.observe(outputEl, {childList: true});\n",
       "}}\n",
       "\n",
       "                        })                };                });            </script>        </div>"
      ]
     },
     "metadata": {},
     "output_type": "display_data"
    }
   ],
   "source": [
    "import plotly.express as px\n",
    "\n",
    "px.treemap(cars.groupby(by='Region').sum().reset_index(), path=['Region'], labels='Fuel_Type', \n",
    "           values='Price', title='Price vs Region')"
   ]
  },
  {
   "cell_type": "markdown",
   "metadata": {},
   "source": [
    "Certainly, Riyadh is the capital of saudi Arabia with the majorities of population has almost the half of the used vehicles.With price of the tatal is 186,854,782"
   ]
  },
  {
   "cell_type": "code",
   "execution_count": 709,
   "metadata": {},
   "outputs": [
    {
     "data": {
      "text/plain": [
       "<AxesSubplot:title={'center':'Price'}, xlabel='Region'>"
      ]
     },
     "execution_count": 709,
     "metadata": {},
     "output_type": "execute_result"
    },
    {
     "data": {
      "image/png": "[encoded data removed]",
      "text/plain": [
       "<Figure size 576x360 with 1 Axes>"
      ]
     },
     "metadata": {
      "needs_background": "light"
     },
     "output_type": "display_data"
    }
   ],
   "source": [
    "cars.boxplot(column='Price',by = 'Region')"
   ]
  },
  {
   "cell_type": "code",
   "execution_count": 710,
   "metadata": {},
   "outputs": [
    {
     "name": "stderr",
     "output_type": "stream",
     "text": [
      "/Users/hadelalenezi/opt/anaconda3/lib/python3.8/site-packages/seaborn/_decorators.py:36: FutureWarning:\n",
      "\n",
      "Pass the following variable as a keyword arg: x. From version 0.12, the only valid positional argument will be `data`, and passing other arguments without an explicit keyword will result in an error or misinterpretation.\n",
      "\n"
     ]
    },
    {
     "data": {
      "image/png": "[encoded data removed]",
      "text/plain": [
       "<Figure size 1008x576 with 1 Axes>"
      ]
     },
     "metadata": {
      "needs_background": "light"
     },
     "output_type": "display_data"
    }
   ],
   "source": [
    "#palette = sns.color_palette(\"mako_r\", 5)\n",
    "#sns.lineplot(data=cars, x=\"Year\", y=\"Price\",palette=palette)\n",
    "plt.rcParams['figure.figsize'] = [14,8]\n",
    "plt.xlabel('Year')\n",
    "plt.ylabel('Price')\n",
    "sns.countplot('Year', data=cars)\n",
    "plt.show()"
   ]
  },
  {
   "cell_type": "markdown",
   "metadata": {
    "papermill": {
     "duration": 0.024179,
     "end_time": "2020-08-12T08:45:20.982928",
     "exception": false,
     "start_time": "2020-08-12T08:45:20.958749",
     "status": "completed"
    },
    "tags": []
   },
   "source": [
    "### Step 2: EDA"
   ]
  },
  {
   "cell_type": "markdown",
   "metadata": {
    "papermill": {
     "duration": 0.037045,
     "end_time": "2020-08-12T08:45:21.044042",
     "exception": false,
     "start_time": "2020-08-12T08:45:21.006997",
     "status": "completed"
    },
    "tags": []
   },
   "source": [
    "**2.1 Visualizing Numerical Data**"
   ]
  },
  {
   "cell_type": "code",
   "execution_count": 711,
   "metadata": {},
   "outputs": [
    {
     "data": {
      "text/plain": [
       "array([2018, 2019, 2011, 2017, 2014, 2020, 2016, 2021, 2015, 2013, 2008,\n",
       "       1993, 2009, 2012, 2010, 2006, 2007, 1992, 2001, 2003, 1996, 2005,\n",
       "       1984, 1995, 2000, 2002, 2004, 1998, 1982, 1997, 1994, 1999, 1990,\n",
       "       1983, 1989, 1988, 1987, 1964, 1963, 1991, 1981, 1972, 1970, 1980,\n",
       "       1978, 1986, 1985])"
      ]
     },
     "execution_count": 711,
     "metadata": {},
     "output_type": "execute_result"
    }
   ],
   "source": [
    "cars['Year'].unique()"
   ]
  },
  {
   "cell_type": "markdown",
   "metadata": {},
   "source": [
    "Processing Years to Derive Age of car\n",
    "to understand how old cars is and its effect on price.so creating a new column Age . Current year would be 2021 and Age column would be Age= 2021-year."
   ]
  },
  {
   "cell_type": "code",
   "execution_count": 712,
   "metadata": {},
   "outputs": [
    {
     "data": {
      "text/html": [
       "<div>\n",
       "<style scoped>\n",
       "    .dataframe tbody tr th:only-of-type {\n",
       "        vertical-align: middle;\n",
       "    }\n",
       "\n",
       "    .dataframe tbody tr th {\n",
       "        vertical-align: top;\n",
       "    }\n",
       "\n",
       "    .dataframe thead th {\n",
       "        text-align: right;\n",
       "    }\n",
       "</style>\n",
       "<table border=\"1\" class=\"dataframe\">\n",
       "  <thead>\n",
       "    <tr style=\"text-align: right;\">\n",
       "      <th></th>\n",
       "      <th>Make</th>\n",
       "      <th>Type</th>\n",
       "      <th>Year</th>\n",
       "      <th>Origin</th>\n",
       "      <th>Options</th>\n",
       "      <th>Gear_Type</th>\n",
       "      <th>Mileage</th>\n",
       "      <th>Region</th>\n",
       "      <th>Price</th>\n",
       "      <th>age</th>\n",
       "    </tr>\n",
       "  </thead>\n",
       "  <tbody>\n",
       "    <tr>\n",
       "      <th>0</th>\n",
       "      <td>Chrysler</td>\n",
       "      <td>C300</td>\n",
       "      <td>2018</td>\n",
       "      <td>Saudi</td>\n",
       "      <td>Full</td>\n",
       "      <td>Automatic</td>\n",
       "      <td>103000</td>\n",
       "      <td>Riyadh</td>\n",
       "      <td>114000.0</td>\n",
       "      <td>3</td>\n",
       "    </tr>\n",
       "    <tr>\n",
       "      <th>2</th>\n",
       "      <td>Nissan</td>\n",
       "      <td>Sunny</td>\n",
       "      <td>2019</td>\n",
       "      <td>Saudi</td>\n",
       "      <td>Standard</td>\n",
       "      <td>Automatic</td>\n",
       "      <td>72418</td>\n",
       "      <td>Riyadh</td>\n",
       "      <td>27500.0</td>\n",
       "      <td>2</td>\n",
       "    </tr>\n",
       "    <tr>\n",
       "      <th>3</th>\n",
       "      <td>Hyundai</td>\n",
       "      <td>Elantra</td>\n",
       "      <td>2019</td>\n",
       "      <td>Saudi</td>\n",
       "      <td>Standard</td>\n",
       "      <td>Automatic</td>\n",
       "      <td>114154</td>\n",
       "      <td>Riyadh</td>\n",
       "      <td>43000.0</td>\n",
       "      <td>2</td>\n",
       "    </tr>\n",
       "    <tr>\n",
       "      <th>4</th>\n",
       "      <td>Hyundai</td>\n",
       "      <td>Elantra</td>\n",
       "      <td>2019</td>\n",
       "      <td>Saudi</td>\n",
       "      <td>Semi Full</td>\n",
       "      <td>Automatic</td>\n",
       "      <td>41912</td>\n",
       "      <td>Riyadh</td>\n",
       "      <td>59500.0</td>\n",
       "      <td>2</td>\n",
       "    </tr>\n",
       "    <tr>\n",
       "      <th>5</th>\n",
       "      <td>Honda</td>\n",
       "      <td>Accord</td>\n",
       "      <td>2018</td>\n",
       "      <td>Saudi</td>\n",
       "      <td>Full</td>\n",
       "      <td>Automatic</td>\n",
       "      <td>39000</td>\n",
       "      <td>Riyadh</td>\n",
       "      <td>72000.0</td>\n",
       "      <td>3</td>\n",
       "    </tr>\n",
       "  </tbody>\n",
       "</table>\n",
       "</div>"
      ],
      "text/plain": [
       "       Make     Type  Year Origin    Options  Gear_Type  Mileage  Region  \\\n",
       "0  Chrysler     C300  2018  Saudi       Full  Automatic   103000  Riyadh   \n",
       "2    Nissan    Sunny  2019  Saudi   Standard  Automatic    72418  Riyadh   \n",
       "3   Hyundai  Elantra  2019  Saudi   Standard  Automatic   114154  Riyadh   \n",
       "4   Hyundai  Elantra  2019  Saudi  Semi Full  Automatic    41912  Riyadh   \n",
       "5     Honda   Accord  2018  Saudi       Full  Automatic    39000  Riyadh   \n",
       "\n",
       "      Price  age  \n",
       "0  114000.0    3  \n",
       "2   27500.0    2  \n",
       "3   43000.0    2  \n",
       "4   59500.0    2  \n",
       "5   72000.0    3  "
      ]
     },
     "execution_count": 712,
     "metadata": {},
     "output_type": "execute_result"
    }
   ],
   "source": [
    "# Calculate the age of the car\n",
    "cars['Current_year']=2021\n",
    "\n",
    "cars['age']=cars['Current_year']-cars['Year']\n",
    "cars.drop('Current_year',axis=1,inplace=True)\n",
    "cars.head()\n"
   ]
  },
  {
   "cell_type": "code",
   "execution_count": 713,
   "metadata": {},
   "outputs": [
    {
     "data": {
      "text/html": [
       "<div>\n",
       "<style scoped>\n",
       "    .dataframe tbody tr th:only-of-type {\n",
       "        vertical-align: middle;\n",
       "    }\n",
       "\n",
       "    .dataframe tbody tr th {\n",
       "        vertical-align: top;\n",
       "    }\n",
       "\n",
       "    .dataframe thead th {\n",
       "        text-align: right;\n",
       "    }\n",
       "</style>\n",
       "<table border=\"1\" class=\"dataframe\">\n",
       "  <thead>\n",
       "    <tr style=\"text-align: right;\">\n",
       "      <th></th>\n",
       "      <th>Year</th>\n",
       "      <th>Mileage</th>\n",
       "      <th>Price</th>\n",
       "      <th>age</th>\n",
       "    </tr>\n",
       "  </thead>\n",
       "  <tbody>\n",
       "    <tr>\n",
       "      <th>count</th>\n",
       "      <td>5492.000000</td>\n",
       "      <td>5.492000e+03</td>\n",
       "      <td>5.492000e+03</td>\n",
       "      <td>5492.000000</td>\n",
       "    </tr>\n",
       "    <tr>\n",
       "      <th>mean</th>\n",
       "      <td>2014.832302</td>\n",
       "      <td>1.395087e+05</td>\n",
       "      <td>7.827891e+04</td>\n",
       "      <td>6.167698</td>\n",
       "    </tr>\n",
       "    <tr>\n",
       "      <th>std</th>\n",
       "      <td>5.146277</td>\n",
       "      <td>3.353288e+05</td>\n",
       "      <td>7.508188e+04</td>\n",
       "      <td>5.146277</td>\n",
       "    </tr>\n",
       "    <tr>\n",
       "      <th>min</th>\n",
       "      <td>1963.000000</td>\n",
       "      <td>1.000000e+02</td>\n",
       "      <td>1.000000e+00</td>\n",
       "      <td>0.000000</td>\n",
       "    </tr>\n",
       "    <tr>\n",
       "      <th>25%</th>\n",
       "      <td>2013.000000</td>\n",
       "      <td>4.613425e+04</td>\n",
       "      <td>3.500000e+04</td>\n",
       "      <td>3.000000</td>\n",
       "    </tr>\n",
       "    <tr>\n",
       "      <th>50%</th>\n",
       "      <td>2016.000000</td>\n",
       "      <td>1.010000e+05</td>\n",
       "      <td>5.800000e+04</td>\n",
       "      <td>5.000000</td>\n",
       "    </tr>\n",
       "    <tr>\n",
       "      <th>75%</th>\n",
       "      <td>2018.000000</td>\n",
       "      <td>1.800000e+05</td>\n",
       "      <td>9.425000e+04</td>\n",
       "      <td>8.000000</td>\n",
       "    </tr>\n",
       "    <tr>\n",
       "      <th>max</th>\n",
       "      <td>2021.000000</td>\n",
       "      <td>2.000000e+07</td>\n",
       "      <td>1.150000e+06</td>\n",
       "      <td>58.000000</td>\n",
       "    </tr>\n",
       "  </tbody>\n",
       "</table>\n",
       "</div>"
      ],
      "text/plain": [
       "              Year       Mileage         Price          age\n",
       "count  5492.000000  5.492000e+03  5.492000e+03  5492.000000\n",
       "mean   2014.832302  1.395087e+05  7.827891e+04     6.167698\n",
       "std       5.146277  3.353288e+05  7.508188e+04     5.146277\n",
       "min    1963.000000  1.000000e+02  1.000000e+00     0.000000\n",
       "25%    2013.000000  4.613425e+04  3.500000e+04     3.000000\n",
       "50%    2016.000000  1.010000e+05  5.800000e+04     5.000000\n",
       "75%    2018.000000  1.800000e+05  9.425000e+04     8.000000\n",
       "max    2021.000000  2.000000e+07  1.150000e+06    58.000000"
      ]
     },
     "execution_count": 713,
     "metadata": {},
     "output_type": "execute_result"
    }
   ],
   "source": [
    "cars.describe()"
   ]
  },
  {
   "cell_type": "markdown",
   "metadata": {},
   "source": [
    "Chane the age spot "
   ]
  },
  {
   "cell_type": "code",
   "execution_count": 714,
   "metadata": {},
   "outputs": [
    {
     "name": "stdout",
     "output_type": "stream",
     "text": [
      "           Make     Type  Year Origin    Options  Gear_Type  Mileage  \\\n",
      "0      Chrysler     C300  2018  Saudi       Full  Automatic   103000   \n",
      "2        Nissan    Sunny  2019  Saudi   Standard  Automatic    72418   \n",
      "3       Hyundai  Elantra  2019  Saudi   Standard  Automatic   114154   \n",
      "4       Hyundai  Elantra  2019  Saudi  Semi Full  Automatic    41912   \n",
      "5         Honda   Accord  2018  Saudi       Full  Automatic    39000   \n",
      "...         ...      ...   ...    ...        ...        ...      ...   \n",
      "8029        Kia  Sorento  2006  Saudi       Full     Manual   257000   \n",
      "8030       Audi       A6  2015  Saudi       Full  Automatic    77000   \n",
      "8031  Chevrolet   Camaro  2010  Saudi       Full  Automatic   150000   \n",
      "8033     Nissan   Altima  2011  Saudi       Full  Automatic    18500   \n",
      "8034   Cadillac    Other  2013  Saudi       Full  Automatic   256000   \n",
      "\n",
      "         Region  age     Price  \n",
      "0        Riyadh    3  114000.0  \n",
      "2        Riyadh    2   27500.0  \n",
      "3        Riyadh    2   43000.0  \n",
      "4        Riyadh    2   59500.0  \n",
      "5        Riyadh    3   72000.0  \n",
      "...         ...  ...       ...  \n",
      "8029     Dammam   15   15000.0  \n",
      "8030     Riyadh    6   75000.0  \n",
      "8031     Riyadh   11   53000.0  \n",
      "8033      Aseer   10   22000.0  \n",
      "8034  Al-Medina    8   40000.0  \n",
      "\n",
      "[5492 rows x 10 columns]\n"
     ]
    }
   ],
   "source": [
    "cars = cars[[\"Make\", \"Type\", \"Year\",\"Origin\",\"Options\",\"Gear_Type\",\"Mileage\",\"Region\",\"age\",\"Price\"]]\n",
    "\n",
    "print(cars)"
   ]
  },
  {
   "cell_type": "code",
   "execution_count": 715,
   "metadata": {},
   "outputs": [
    {
     "name": "stdout",
     "output_type": "stream",
     "text": [
      "Rows     :  5492\n",
      "Columns  :  10\n"
     ]
    }
   ],
   "source": [
    "print (\"Rows     : \" ,cars.shape[0])  #get number of rows/observations\n",
    "print (\"Columns  : \" , cars.shape[1]) #get number of columns\n",
    "\n"
   ]
  },
  {
   "cell_type": "code",
   "execution_count": 716,
   "metadata": {},
   "outputs": [
    {
     "data": {
      "text/plain": [
       "Make          object\n",
       "Type          object\n",
       "Year           int64\n",
       "Origin        object\n",
       "Options       object\n",
       "Gear_Type     object\n",
       "Mileage        int64\n",
       "Region        object\n",
       "age            int64\n",
       "Price        float64\n",
       "dtype: object"
      ]
     },
     "execution_count": 716,
     "metadata": {},
     "output_type": "execute_result"
    }
   ],
   "source": [
    "cars.dtypes"
   ]
  },
  {
   "cell_type": "code",
   "execution_count": 717,
   "metadata": {},
   "outputs": [
    {
     "data": {
      "text/html": [
       "<div>\n",
       "<style scoped>\n",
       "    .dataframe tbody tr th:only-of-type {\n",
       "        vertical-align: middle;\n",
       "    }\n",
       "\n",
       "    .dataframe tbody tr th {\n",
       "        vertical-align: top;\n",
       "    }\n",
       "\n",
       "    .dataframe thead th {\n",
       "        text-align: right;\n",
       "    }\n",
       "</style>\n",
       "<table border=\"1\" class=\"dataframe\">\n",
       "  <thead>\n",
       "    <tr style=\"text-align: right;\">\n",
       "      <th></th>\n",
       "      <th>Make</th>\n",
       "      <th>Type</th>\n",
       "      <th>Year</th>\n",
       "      <th>Origin</th>\n",
       "      <th>Options</th>\n",
       "      <th>Gear_Type</th>\n",
       "      <th>Mileage</th>\n",
       "      <th>Region</th>\n",
       "      <th>age</th>\n",
       "      <th>Price</th>\n",
       "      <th>...</th>\n",
       "      <th>Najran</th>\n",
       "      <th>Qassim</th>\n",
       "      <th>Qurayyat</th>\n",
       "      <th>Riyadh</th>\n",
       "      <th>Sabya</th>\n",
       "      <th>Sakaka</th>\n",
       "      <th>Tabouk</th>\n",
       "      <th>Taef</th>\n",
       "      <th>Wadi Dawasir</th>\n",
       "      <th>Yanbu</th>\n",
       "    </tr>\n",
       "  </thead>\n",
       "  <tbody>\n",
       "    <tr>\n",
       "      <th>0</th>\n",
       "      <td>Chrysler</td>\n",
       "      <td>C300</td>\n",
       "      <td>2018</td>\n",
       "      <td>Saudi</td>\n",
       "      <td>Full</td>\n",
       "      <td>Automatic</td>\n",
       "      <td>103000</td>\n",
       "      <td>Riyadh</td>\n",
       "      <td>3</td>\n",
       "      <td>114000.0</td>\n",
       "      <td>...</td>\n",
       "      <td>0</td>\n",
       "      <td>0</td>\n",
       "      <td>0</td>\n",
       "      <td>1</td>\n",
       "      <td>0</td>\n",
       "      <td>0</td>\n",
       "      <td>0</td>\n",
       "      <td>0</td>\n",
       "      <td>0</td>\n",
       "      <td>0</td>\n",
       "    </tr>\n",
       "    <tr>\n",
       "      <th>2</th>\n",
       "      <td>Nissan</td>\n",
       "      <td>Sunny</td>\n",
       "      <td>2019</td>\n",
       "      <td>Saudi</td>\n",
       "      <td>Standard</td>\n",
       "      <td>Automatic</td>\n",
       "      <td>72418</td>\n",
       "      <td>Riyadh</td>\n",
       "      <td>2</td>\n",
       "      <td>27500.0</td>\n",
       "      <td>...</td>\n",
       "      <td>0</td>\n",
       "      <td>0</td>\n",
       "      <td>0</td>\n",
       "      <td>1</td>\n",
       "      <td>0</td>\n",
       "      <td>0</td>\n",
       "      <td>0</td>\n",
       "      <td>0</td>\n",
       "      <td>0</td>\n",
       "      <td>0</td>\n",
       "    </tr>\n",
       "    <tr>\n",
       "      <th>3</th>\n",
       "      <td>Hyundai</td>\n",
       "      <td>Elantra</td>\n",
       "      <td>2019</td>\n",
       "      <td>Saudi</td>\n",
       "      <td>Standard</td>\n",
       "      <td>Automatic</td>\n",
       "      <td>114154</td>\n",
       "      <td>Riyadh</td>\n",
       "      <td>2</td>\n",
       "      <td>43000.0</td>\n",
       "      <td>...</td>\n",
       "      <td>0</td>\n",
       "      <td>0</td>\n",
       "      <td>0</td>\n",
       "      <td>1</td>\n",
       "      <td>0</td>\n",
       "      <td>0</td>\n",
       "      <td>0</td>\n",
       "      <td>0</td>\n",
       "      <td>0</td>\n",
       "      <td>0</td>\n",
       "    </tr>\n",
       "    <tr>\n",
       "      <th>4</th>\n",
       "      <td>Hyundai</td>\n",
       "      <td>Elantra</td>\n",
       "      <td>2019</td>\n",
       "      <td>Saudi</td>\n",
       "      <td>Semi Full</td>\n",
       "      <td>Automatic</td>\n",
       "      <td>41912</td>\n",
       "      <td>Riyadh</td>\n",
       "      <td>2</td>\n",
       "      <td>59500.0</td>\n",
       "      <td>...</td>\n",
       "      <td>0</td>\n",
       "      <td>0</td>\n",
       "      <td>0</td>\n",
       "      <td>1</td>\n",
       "      <td>0</td>\n",
       "      <td>0</td>\n",
       "      <td>0</td>\n",
       "      <td>0</td>\n",
       "      <td>0</td>\n",
       "      <td>0</td>\n",
       "    </tr>\n",
       "    <tr>\n",
       "      <th>5</th>\n",
       "      <td>Honda</td>\n",
       "      <td>Accord</td>\n",
       "      <td>2018</td>\n",
       "      <td>Saudi</td>\n",
       "      <td>Full</td>\n",
       "      <td>Automatic</td>\n",
       "      <td>39000</td>\n",
       "      <td>Riyadh</td>\n",
       "      <td>3</td>\n",
       "      <td>72000.0</td>\n",
       "      <td>...</td>\n",
       "      <td>0</td>\n",
       "      <td>0</td>\n",
       "      <td>0</td>\n",
       "      <td>1</td>\n",
       "      <td>0</td>\n",
       "      <td>0</td>\n",
       "      <td>0</td>\n",
       "      <td>0</td>\n",
       "      <td>0</td>\n",
       "      <td>0</td>\n",
       "    </tr>\n",
       "    <tr>\n",
       "      <th>...</th>\n",
       "      <td>...</td>\n",
       "      <td>...</td>\n",
       "      <td>...</td>\n",
       "      <td>...</td>\n",
       "      <td>...</td>\n",
       "      <td>...</td>\n",
       "      <td>...</td>\n",
       "      <td>...</td>\n",
       "      <td>...</td>\n",
       "      <td>...</td>\n",
       "      <td>...</td>\n",
       "      <td>...</td>\n",
       "      <td>...</td>\n",
       "      <td>...</td>\n",
       "      <td>...</td>\n",
       "      <td>...</td>\n",
       "      <td>...</td>\n",
       "      <td>...</td>\n",
       "      <td>...</td>\n",
       "      <td>...</td>\n",
       "      <td>...</td>\n",
       "    </tr>\n",
       "    <tr>\n",
       "      <th>8029</th>\n",
       "      <td>Kia</td>\n",
       "      <td>Sorento</td>\n",
       "      <td>2006</td>\n",
       "      <td>Saudi</td>\n",
       "      <td>Full</td>\n",
       "      <td>Manual</td>\n",
       "      <td>257000</td>\n",
       "      <td>Dammam</td>\n",
       "      <td>15</td>\n",
       "      <td>15000.0</td>\n",
       "      <td>...</td>\n",
       "      <td>0</td>\n",
       "      <td>0</td>\n",
       "      <td>0</td>\n",
       "      <td>0</td>\n",
       "      <td>0</td>\n",
       "      <td>0</td>\n",
       "      <td>0</td>\n",
       "      <td>0</td>\n",
       "      <td>0</td>\n",
       "      <td>0</td>\n",
       "    </tr>\n",
       "    <tr>\n",
       "      <th>8030</th>\n",
       "      <td>Audi</td>\n",
       "      <td>A6</td>\n",
       "      <td>2015</td>\n",
       "      <td>Saudi</td>\n",
       "      <td>Full</td>\n",
       "      <td>Automatic</td>\n",
       "      <td>77000</td>\n",
       "      <td>Riyadh</td>\n",
       "      <td>6</td>\n",
       "      <td>75000.0</td>\n",
       "      <td>...</td>\n",
       "      <td>0</td>\n",
       "      <td>0</td>\n",
       "      <td>0</td>\n",
       "      <td>1</td>\n",
       "      <td>0</td>\n",
       "      <td>0</td>\n",
       "      <td>0</td>\n",
       "      <td>0</td>\n",
       "      <td>0</td>\n",
       "      <td>0</td>\n",
       "    </tr>\n",
       "    <tr>\n",
       "      <th>8031</th>\n",
       "      <td>Chevrolet</td>\n",
       "      <td>Camaro</td>\n",
       "      <td>2010</td>\n",
       "      <td>Saudi</td>\n",
       "      <td>Full</td>\n",
       "      <td>Automatic</td>\n",
       "      <td>150000</td>\n",
       "      <td>Riyadh</td>\n",
       "      <td>11</td>\n",
       "      <td>53000.0</td>\n",
       "      <td>...</td>\n",
       "      <td>0</td>\n",
       "      <td>0</td>\n",
       "      <td>0</td>\n",
       "      <td>1</td>\n",
       "      <td>0</td>\n",
       "      <td>0</td>\n",
       "      <td>0</td>\n",
       "      <td>0</td>\n",
       "      <td>0</td>\n",
       "      <td>0</td>\n",
       "    </tr>\n",
       "    <tr>\n",
       "      <th>8033</th>\n",
       "      <td>Nissan</td>\n",
       "      <td>Altima</td>\n",
       "      <td>2011</td>\n",
       "      <td>Saudi</td>\n",
       "      <td>Full</td>\n",
       "      <td>Automatic</td>\n",
       "      <td>18500</td>\n",
       "      <td>Aseer</td>\n",
       "      <td>10</td>\n",
       "      <td>22000.0</td>\n",
       "      <td>...</td>\n",
       "      <td>0</td>\n",
       "      <td>0</td>\n",
       "      <td>0</td>\n",
       "      <td>0</td>\n",
       "      <td>0</td>\n",
       "      <td>0</td>\n",
       "      <td>0</td>\n",
       "      <td>0</td>\n",
       "      <td>0</td>\n",
       "      <td>0</td>\n",
       "    </tr>\n",
       "    <tr>\n",
       "      <th>8034</th>\n",
       "      <td>Cadillac</td>\n",
       "      <td>Other</td>\n",
       "      <td>2013</td>\n",
       "      <td>Saudi</td>\n",
       "      <td>Full</td>\n",
       "      <td>Automatic</td>\n",
       "      <td>256000</td>\n",
       "      <td>Al-Medina</td>\n",
       "      <td>8</td>\n",
       "      <td>40000.0</td>\n",
       "      <td>...</td>\n",
       "      <td>0</td>\n",
       "      <td>0</td>\n",
       "      <td>0</td>\n",
       "      <td>0</td>\n",
       "      <td>0</td>\n",
       "      <td>0</td>\n",
       "      <td>0</td>\n",
       "      <td>0</td>\n",
       "      <td>0</td>\n",
       "      <td>0</td>\n",
       "    </tr>\n",
       "  </tbody>\n",
       "</table>\n",
       "<p>5492 rows × 455 columns</p>\n",
       "</div>"
      ],
      "text/plain": [
       "           Make     Type  Year Origin    Options  Gear_Type  Mileage  \\\n",
       "0      Chrysler     C300  2018  Saudi       Full  Automatic   103000   \n",
       "2        Nissan    Sunny  2019  Saudi   Standard  Automatic    72418   \n",
       "3       Hyundai  Elantra  2019  Saudi   Standard  Automatic   114154   \n",
       "4       Hyundai  Elantra  2019  Saudi  Semi Full  Automatic    41912   \n",
       "5         Honda   Accord  2018  Saudi       Full  Automatic    39000   \n",
       "...         ...      ...   ...    ...        ...        ...      ...   \n",
       "8029        Kia  Sorento  2006  Saudi       Full     Manual   257000   \n",
       "8030       Audi       A6  2015  Saudi       Full  Automatic    77000   \n",
       "8031  Chevrolet   Camaro  2010  Saudi       Full  Automatic   150000   \n",
       "8033     Nissan   Altima  2011  Saudi       Full  Automatic    18500   \n",
       "8034   Cadillac    Other  2013  Saudi       Full  Automatic   256000   \n",
       "\n",
       "         Region  age     Price  ...  Najran  Qassim  Qurayyat  Riyadh  Sabya  \\\n",
       "0        Riyadh    3  114000.0  ...       0       0         0       1      0   \n",
       "2        Riyadh    2   27500.0  ...       0       0         0       1      0   \n",
       "3        Riyadh    2   43000.0  ...       0       0         0       1      0   \n",
       "4        Riyadh    2   59500.0  ...       0       0         0       1      0   \n",
       "5        Riyadh    3   72000.0  ...       0       0         0       1      0   \n",
       "...         ...  ...       ...  ...     ...     ...       ...     ...    ...   \n",
       "8029     Dammam   15   15000.0  ...       0       0         0       0      0   \n",
       "8030     Riyadh    6   75000.0  ...       0       0         0       1      0   \n",
       "8031     Riyadh   11   53000.0  ...       0       0         0       1      0   \n",
       "8033      Aseer   10   22000.0  ...       0       0         0       0      0   \n",
       "8034  Al-Medina    8   40000.0  ...       0       0         0       0      0   \n",
       "\n",
       "      Sakaka  Tabouk  Taef  Wadi Dawasir  Yanbu  \n",
       "0          0       0     0             0      0  \n",
       "2          0       0     0             0      0  \n",
       "3          0       0     0             0      0  \n",
       "4          0       0     0             0      0  \n",
       "5          0       0     0             0      0  \n",
       "...      ...     ...   ...           ...    ...  \n",
       "8029       0       0     0             0      0  \n",
       "8030       0       0     0             0      0  \n",
       "8031       0       0     0             0      0  \n",
       "8033       0       0     0             0      0  \n",
       "8034       0       0     0             0      0  \n",
       "\n",
       "[5492 rows x 455 columns]"
      ]
     },
     "execution_count": 717,
     "metadata": {},
     "output_type": "execute_result"
    }
   ],
   "source": [
    "# Creating dummy variables for categorical columns\n",
    "make_dummies = pd.get_dummies(cars.Make)\n",
    "type_dummies = pd.get_dummies(cars.Type)\n",
    "origin_dummies = pd.get_dummies(cars.Origin)\n",
    "options_dummies = pd.get_dummies(cars.Options)\n",
    "gear_type_dummies = pd.get_dummies(cars.Gear_Type)\n",
    "region_dummies = pd.get_dummies(cars.Region)\n",
    "\n",
    "\n",
    "merged = pd.concat([cars,make_dummies,type_dummies,origin_dummies,options_dummies,gear_type_dummies,region_dummies], axis = 'columns')\n",
    "merged"
   ]
  },
  {
   "cell_type": "code",
   "execution_count": 718,
   "metadata": {
    "scrolled": true
   },
   "outputs": [
    {
     "data": {
      "text/plain": [
       "Index(['Make', 'Type', 'Year', 'Origin', 'Options', 'Gear_Type', 'Mileage',\n",
       "       'Region', 'age', 'Price'],\n",
       "      dtype='object')"
      ]
     },
     "execution_count": 718,
     "metadata": {},
     "output_type": "execute_result"
    }
   ],
   "source": [
    "cars.columns"
   ]
  },
  {
   "cell_type": "code",
   "execution_count": 719,
   "metadata": {},
   "outputs": [],
   "source": [
    "#Dropping columns for which dummy variables for created\n",
    "# Dropping one column of dummy variable to avoid dummy variables trap\n",
    "# Dropping other columns which are not required\n",
    "merged.drop(['Make','Type','Origin','Options','Gear_Type','Region'], axis =1, inplace = True)"
   ]
  },
  {
   "cell_type": "code",
   "execution_count": 720,
   "metadata": {},
   "outputs": [
    {
     "data": {
      "text/plain": [
       "array([[2.01800e+03, 1.03000e+05, 3.00000e+00, ..., 0.00000e+00,\n",
       "        0.00000e+00, 0.00000e+00],\n",
       "       [2.01900e+03, 7.24180e+04, 2.00000e+00, ..., 0.00000e+00,\n",
       "        0.00000e+00, 0.00000e+00],\n",
       "       [2.01900e+03, 1.14154e+05, 2.00000e+00, ..., 0.00000e+00,\n",
       "        0.00000e+00, 0.00000e+00],\n",
       "       ...,\n",
       "       [2.01000e+03, 1.50000e+05, 1.10000e+01, ..., 0.00000e+00,\n",
       "        0.00000e+00, 0.00000e+00],\n",
       "       [2.01100e+03, 1.85000e+04, 1.00000e+01, ..., 0.00000e+00,\n",
       "        0.00000e+00, 0.00000e+00],\n",
       "       [2.01300e+03, 2.56000e+05, 8.00000e+00, ..., 0.00000e+00,\n",
       "        0.00000e+00, 0.00000e+00]])"
      ]
     },
     "execution_count": 720,
     "metadata": {},
     "output_type": "execute_result"
    }
   ],
   "source": [
    "# imputing the DataFrame for NaN values in columns\n",
    "from sklearn.impute import SimpleImputer\n",
    "my_imputer = SimpleImputer()\n",
    "imputed_merged = my_imputer.fit_transform(merged)\n",
    "imputed_merged"
   ]
  },
  {
   "cell_type": "code",
   "execution_count": 721,
   "metadata": {},
   "outputs": [],
   "source": [
    "# Converting the above formed array into a DataFrame\n",
    "merged_df = pd.DataFrame(imputed_merged, columns = merged.columns)"
   ]
  },
  {
   "cell_type": "code",
   "execution_count": 722,
   "metadata": {},
   "outputs": [],
   "source": [
    "X = merged_df.drop(['Price'], axis =1).values\n",
    "y = merged_df['Price'].values"
   ]
  },
  {
   "cell_type": "code",
   "execution_count": 723,
   "metadata": {},
   "outputs": [
    {
     "data": {
      "text/plain": [
       "(5492, 448)"
      ]
     },
     "execution_count": 723,
     "metadata": {},
     "output_type": "execute_result"
    }
   ],
   "source": [
    "X.shape"
   ]
  },
  {
   "cell_type": "code",
   "execution_count": 724,
   "metadata": {},
   "outputs": [
    {
     "data": {
      "text/plain": [
       "array([[2.01800e+03, 1.03000e+05, 3.00000e+00, ..., 0.00000e+00,\n",
       "        0.00000e+00, 0.00000e+00],\n",
       "       [2.01900e+03, 7.24180e+04, 2.00000e+00, ..., 0.00000e+00,\n",
       "        0.00000e+00, 0.00000e+00],\n",
       "       [2.01900e+03, 1.14154e+05, 2.00000e+00, ..., 0.00000e+00,\n",
       "        0.00000e+00, 0.00000e+00],\n",
       "       ...,\n",
       "       [2.01000e+03, 1.50000e+05, 1.10000e+01, ..., 0.00000e+00,\n",
       "        0.00000e+00, 0.00000e+00],\n",
       "       [2.01100e+03, 1.85000e+04, 1.00000e+01, ..., 0.00000e+00,\n",
       "        0.00000e+00, 0.00000e+00],\n",
       "       [2.01300e+03, 2.56000e+05, 8.00000e+00, ..., 0.00000e+00,\n",
       "        0.00000e+00, 0.00000e+00]])"
      ]
     },
     "execution_count": 724,
     "metadata": {},
     "output_type": "execute_result"
    }
   ],
   "source": [
    "X"
   ]
  },
  {
   "cell_type": "code",
   "execution_count": 725,
   "metadata": {},
   "outputs": [
    {
     "data": {
      "text/plain": [
       "array([114000.,  27500.,  43000., ...,  53000.,  22000.,  40000.])"
      ]
     },
     "execution_count": 725,
     "metadata": {},
     "output_type": "execute_result"
    }
   ],
   "source": [
    "y"
   ]
  },
  {
   "cell_type": "code",
   "execution_count": 726,
   "metadata": {},
   "outputs": [],
   "source": [
    "##FEATURESSCALING\n",
    "from sklearn.preprocessing import StandardScaler\n",
    "sc = StandardScaler()\n",
    "X = sc.fit_transform(X)"
   ]
  },
  {
   "cell_type": "code",
   "execution_count": 727,
   "metadata": {},
   "outputs": [
    {
     "name": "stdout",
     "output_type": "stream",
     "text": [
      "X_train: (4393, 448)\n",
      "X_test: (1099, 448)\n"
     ]
    }
   ],
   "source": [
    "#SPLITING DATASET INTO TRAINING AND TEST SET\n",
    "from sklearn.model_selection import train_test_split\n",
    "X_train, X_test, y_train, y_test = train_test_split(X, y, test_size=0.2, random_state=42)\n",
    "print(\"X_train:\",X_train.shape)\n",
    "print(\"X_test:\",X_test.shape)\n",
    "#print(\"y_train:\",y_train.shape)\n",
    "#print(\"y_test:\",y_test.shape)\n"
   ]
  },
  {
   "cell_type": "markdown",
   "metadata": {},
   "source": [
    "# I'll use RandomForestRegressor model as a base model\n",
    "And then I will use Lasso,KNeighborsRegressor\n"
   ]
  },
  {
   "cell_type": "code",
   "execution_count": 728,
   "metadata": {},
   "outputs": [
    {
     "data": {
      "text/plain": [
       "RandomForestRegressor(random_state=0)"
      ]
     },
     "execution_count": 728,
     "metadata": {},
     "output_type": "execute_result"
    }
   ],
   "source": [
    "from sklearn.ensemble import RandomForestRegressor\n",
    "regr = RandomForestRegressor(random_state=0)\n",
    "regr.fit(X_train,y_train)\n",
    "\n"
   ]
  },
  {
   "cell_type": "markdown",
   "metadata": {},
   "source": [
    "# Predict "
   ]
  },
  {
   "cell_type": "code",
   "execution_count": 729,
   "metadata": {},
   "outputs": [],
   "source": [
    "y_pred= regr.predict(X_test)"
   ]
  },
  {
   "cell_type": "markdown",
   "metadata": {},
   "source": [
    "Testing RESULT"
   ]
  },
  {
   "cell_type": "code",
   "execution_count": 730,
   "metadata": {},
   "outputs": [
    {
     "name": "stdout",
     "output_type": "stream",
     "text": [
      "[34790.   64620.   77406.81 ... 60245.   67190.   14800.  ]\n"
     ]
    }
   ],
   "source": [
    "print(y_pred)"
   ]
  },
  {
   "cell_type": "code",
   "execution_count": 731,
   "metadata": {},
   "outputs": [
    {
     "name": "stdout",
     "output_type": "stream",
     "text": [
      "[33000. 60000. 85000. ... 60000. 64000.  5000.]\n"
     ]
    }
   ],
   "source": [
    "print(y_test)"
   ]
  },
  {
   "cell_type": "markdown",
   "metadata": {},
   "source": [
    "# Calculating Accuracy"
   ]
  },
  {
   "cell_type": "code",
   "execution_count": 732,
   "metadata": {},
   "outputs": [
    {
     "data": {
      "text/plain": [
       "82.2942382852305"
      ]
     },
     "execution_count": 732,
     "metadata": {},
     "output_type": "execute_result"
    }
   ],
   "source": [
    "from sklearn.metrics import r2_score\n",
    "r2_score(y_test, y_pred)*100\n"
   ]
  },
  {
   "cell_type": "code",
   "execution_count": 733,
   "metadata": {},
   "outputs": [
    {
     "name": "stdout",
     "output_type": "stream",
     "text": [
      "82.2942382852305\n",
      "96.78244338478291\n"
     ]
    }
   ],
   "source": [
    "print(regr.score(X_test, y_test)*100)\n",
    "print(regr.score(X_train,y_train)*100)\n",
    "\n"
   ]
  },
  {
   "cell_type": "code",
   "execution_count": 734,
   "metadata": {
    "scrolled": true
   },
   "outputs": [
    {
     "name": "stdout",
     "output_type": "stream",
     "text": [
      "\t\tError Table\n",
      "Mean Absolute Error      :  14935.357261579791\n",
      "Mean Squared  Error      :  869935955.201116\n",
      "Root Mean Squared  Error :  29494.67672650636\n",
      "R Squared Error          :  0.822942382852305\n"
     ]
    }
   ],
   "source": [
    "from sklearn import metrics\n",
    "from sklearn.metrics import mean_squared_error, mean_absolute_error\n",
    "\n",
    "print(\"\\t\\tError Table\")\n",
    "print('Mean Absolute Error      : ', metrics.mean_absolute_error(y_test, y_pred))\n",
    "print('Mean Squared  Error      : ', metrics.mean_squared_error(y_test, y_pred))\n",
    "print('Root Mean Squared  Error : ', np.sqrt(metrics.mean_squared_error(y_test, y_pred)))\n",
    "print('R Squared Error          : ', metrics.r2_score(y_test, y_pred))"
   ]
  },
  {
   "cell_type": "code",
   "execution_count": 735,
   "metadata": {},
   "outputs": [
    {
     "name": "stderr",
     "output_type": "stream",
     "text": [
      "<ipython-input-735-3f8d524a5aba>:4: MatplotlibDeprecationWarning:\n",
      "\n",
      "Case-insensitive properties were deprecated in 3.3 and support will be removed two minor releases later\n",
      "\n"
     ]
    },
    {
     "data": {
      "text/plain": [
       "Text(1, -0.5, ' As we can see that age and year are -ve corelated')"
      ]
     },
     "execution_count": 735,
     "metadata": {},
     "output_type": "execute_result"
    },
    {
     "data": {
      "image/png": "[encoded data removed]",
      "text/plain": [
       "<Figure size 1008x720 with 2 Axes>"
      ]
     },
     "metadata": {
      "needs_background": "light"
     },
     "output_type": "display_data"
    }
   ],
   "source": [
    "corr = cars.corr()\n",
    "f, ax = plt.subplots(figsize=(14, 10))\n",
    "sns.heatmap(corr, annot=True, fmt='.2f', ax=ax,annot_kws={'fontsize':16,'fontweight':'bold'});\n",
    "plt.text(1,-1, 'Check the CO-RELATION  ' ,{'font': 'Serif', 'Size': '25','weight':'bold', 'color':'black'}, alpha = 0.9)\n",
    "\n",
    "plt.text(1,-0.5, ' As we can see that age and year are -ve corelated', \n",
    "        {'font':'Serif', 'size':'12.5','color': 'black'})"
   ]
  },
  {
   "cell_type": "markdown",
   "metadata": {},
   "source": [
    "This is the list of the most influencing features for the price\n",
    "\n"
   ]
  },
  {
   "cell_type": "markdown",
   "metadata": {},
   "source": [
    "Price has positive correlation to Year[0.31].Mileage [19] as well as Age\n",
    "#Price has negative correlation to age [-0.31]."
   ]
  },
  {
   "cell_type": "code",
   "execution_count": 736,
   "metadata": {},
   "outputs": [
    {
     "name": "stdout",
     "output_type": "stream",
     "text": [
      "      Predicted value  Real Value\n",
      "0            34790.00     33000.0\n",
      "1            64620.00     60000.0\n",
      "2            77406.81     85000.0\n",
      "3           205340.00    167000.0\n",
      "4            66770.00     85000.0\n",
      "...               ...         ...\n",
      "1094         63370.00     55000.0\n",
      "1095         48255.00     43000.0\n",
      "1096         60245.00     60000.0\n",
      "1097         67190.00     64000.0\n",
      "1098         14800.00      5000.0\n",
      "\n",
      "[1099 rows x 2 columns]\n"
     ]
    }
   ],
   "source": [
    "\n",
    "dataframe= pd.DataFrame(np.concatenate((y_pred.reshape(len(y_pred),1),y_test.reshape(len(y_pred),1)),1),columns=['Predicted value','Real Value'])\n",
    "print(dataframe)\n",
    "\n"
   ]
  },
  {
   "cell_type": "markdown",
   "metadata": {},
   "source": [
    "We can check linearity with the help of Scatterplot between the dependant and the independant varaible!"
   ]
  },
  {
   "cell_type": "code",
   "execution_count": 737,
   "metadata": {},
   "outputs": [
    {
     "data": {
      "image/png": "[encoded data removed]",
      "text/plain": [
       "<Figure size 720x360 with 1 Axes>"
      ]
     },
     "metadata": {
      "needs_background": "light"
     },
     "output_type": "display_data"
    }
   ],
   "source": [
    "\n",
    "clf = RandomForestRegressor(n_estimators=500, n_jobs=-1)\n",
    "X_train, X_test, y_train, y_test = train_test_split(X,y, test_size=0.2,random_state=42)\n",
    "\n",
    "\n",
    "clf.fit(X_train, y_train)\n",
    "y_pred = clf.predict(X_test)\n",
    "\n",
    "plt.figure(figsize=(10, 5))\n",
    "plt.scatter(y_test, y_pred, s=20)\n",
    "plt.title('Predicted vs. Actual')\n",
    "plt.xlabel('Actual Sale Price')\n",
    "plt.ylabel('Predicted Sale Price')\n",
    "\n",
    "plt.plot([min(y_test), max(y_test)], [min(y_test), max(y_test)])\n",
    "plt.tight_layout()"
   ]
  },
  {
   "cell_type": "code",
   "execution_count": 738,
   "metadata": {},
   "outputs": [
    {
     "name": "stderr",
     "output_type": "stream",
     "text": [
      "<ipython-input-738-c3e117b5d6a8>:13: UserWarning:\n",
      "\n",
      "Matplotlib is currently using module://ipykernel.pylab.backend_inline, which is a non-GUI backend, so cannot show the figure.\n",
      "\n"
     ]
    },
    {
     "data": {
      "image/png": "[encoded data removed]",
      "text/plain": [
       "<Figure size 792x432 with 1 Axes>"
      ]
     },
     "metadata": {},
     "output_type": "display_data"
    }
   ],
   "source": [
    "fig=plt.figure(figsize=(11,6))\n",
    "ax=sns.scatterplot(x=cars[\"Price\"],y=cars[\"Mileage\"],color=\"grey\")\n",
    "fig.patch.set_facecolor('#f6f5f5')\n",
    "ax.set_facecolor('#f6f5f5')\n",
    "#ax.axes.get_xaxis().set_visible(False)\n",
    "#ax.axes.get_yaxis().set_visible(False)\n",
    "ax.spines['bottom'].set_visible(False)\n",
    "ax.spines['left'].set_visible(True)\n",
    "ax.spines['right'].set_visible(False)\n",
    "ax.spines['top'].set_visible(False)\n",
    "\n",
    "\n",
    "fig.show()"
   ]
  },
  {
   "cell_type": "markdown",
   "metadata": {},
   "source": [
    "Modifying the model with transformed Target Values"
   ]
  },
  {
   "cell_type": "markdown",
   "metadata": {},
   "source": [
    "# Now I am using Lasso "
   ]
  },
  {
   "cell_type": "code",
   "execution_count": 739,
   "metadata": {},
   "outputs": [],
   "source": [
    "from sklearn import metrics #Evalution \n",
    "from sklearn.linear_model import Lasso\n"
   ]
  },
  {
   "cell_type": "code",
   "execution_count": 740,
   "metadata": {},
   "outputs": [
    {
     "name": "stderr",
     "output_type": "stream",
     "text": [
      "/Users/hadelalenezi/opt/anaconda3/lib/python3.8/site-packages/sklearn/linear_model/_coordinate_descent.py:530: ConvergenceWarning:\n",
      "\n",
      "Objective did not converge. You might want to increase the number of iterations. Duality gap: 1935242834068.7468, tolerance: 2554946647.215029\n",
      "\n"
     ]
    }
   ],
   "source": [
    "\n",
    "las = Lasso()\n",
    "ls_model_2 = Lasso().fit(X_train,y_train)\n",
    "\n",
    "\n",
    "#PRedict the values\n",
    "y_train_pred = ls_model_2.predict(X_train)\n",
    "\n",
    "#Predict test values\n",
    "y_test_pred = ls_model_2.predict(X_test)\n",
    "\n"
   ]
  },
  {
   "cell_type": "code",
   "execution_count": 741,
   "metadata": {},
   "outputs": [
    {
     "name": "stdout",
     "output_type": "stream",
     "text": [
      "73.4544338646935\n",
      "70.95475520648651\n"
     ]
    }
   ],
   "source": [
    "print(ls_model_2.score(X_train,y_train)*100)\n",
    "print(ls_model_2.score(X_test, y_test)*100)\n"
   ]
  },
  {
   "cell_type": "code",
   "execution_count": 742,
   "metadata": {},
   "outputs": [
    {
     "name": "stdout",
     "output_type": "stream",
     "text": [
      "The r2 score for the model is 0.7095475520648651\n",
      "MAE: 20788.009294271724\n",
      "MSE: 1427077986.281617\n",
      "RMSE: 37776.68575036218\n"
     ]
    }
   ],
   "source": [
    "from sklearn.metrics import r2_score\n",
    "from sklearn import metrics\n",
    "predict = ls_model_2.predict(X_test)\n",
    "r_2 = r2_score(y_test, predict)\n",
    "print('The r2 score for the model is',r_2)\n",
    "\n",
    "print('MAE:', metrics.mean_absolute_error(y_test, predict))\n",
    "print('MSE:', metrics.mean_squared_error(y_test, predict))\n",
    "print('RMSE:', np.sqrt(metrics.mean_squared_error(y_test, predict)))"
   ]
  },
  {
   "cell_type": "markdown",
   "metadata": {},
   "source": [
    "# Now I am using KNeighborsRegressor\n"
   ]
  },
  {
   "cell_type": "code",
   "execution_count": 743,
   "metadata": {},
   "outputs": [],
   "source": [
    "\n",
    "from sklearn.neighbors import KNeighborsRegressor\n",
    "from sklearn.neighbors import KNeighborsClassifier\n",
    "\n",
    "\n",
    "knn = KNeighborsRegressor()\n",
    "knn_model_2 = KNeighborsRegressor().fit(X_train,y_train)\n",
    "\n",
    "\n",
    "#PRedict the values\n",
    "y_train_pred = knn_model_2.predict(X_train)\n",
    "\n",
    "#Predict test values\n",
    "y_test_pred = knn_model_2.predict(X_test)\n",
    "\n",
    "\n"
   ]
  },
  {
   "cell_type": "code",
   "execution_count": 744,
   "metadata": {},
   "outputs": [
    {
     "name": "stdout",
     "output_type": "stream",
     "text": [
      "73.30989026440689\n",
      "65.55120807884525\n"
     ]
    }
   ],
   "source": [
    "predict = ls_model_2.predict(X_test)\n",
    "print(knn_model_2.score(X_train,y_train)*100)\n",
    "print(knn_model_2.score(X_test, y_test)*100)\n",
    "\n"
   ]
  },
  {
   "cell_type": "markdown",
   "metadata": {},
   "source": [
    "# END "
   ]
  },
  {
   "cell_type": "code",
   "execution_count": 746,
   "metadata": {},
   "outputs": [
    {
     "name": "stdout",
     "output_type": "stream",
     "text": [
      " rmse score is : 11738.1489, r2 score is 96.84\n"
     ]
    }
   ],
   "source": [
    "\n",
    "X_train, X_test, y_train, y_test = train_test_split(X, y, test_size=0.2, random_state=0)\n",
    "\n",
    "rf = RandomForestRegressor(random_state=0)\n",
    "\n",
    "rf.fit(X_test, y_test)\n",
    "y_pred = rf.predict(X_test)\n",
    "print (f' rmse score is : {round(np.sqrt(mean_squared_error(y_test, y_pred)),4)}, r2 score is {round(r2_score(y_test, y_pred),4)*100}')\n"
   ]
  },
  {
   "cell_type": "markdown",
   "metadata": {},
   "source": [
    "________________________________________________________________"
   ]
  },
  {
   "cell_type": "markdown",
   "metadata": {},
   "source": [
    "## Summary:\n",
    "As predicted in EDA, Price is an important factor in Car Price Prediction.\n",
    "We have obtained 82% Accuracy using Random Forest.\n",
    "We have obtained 70% Accuracy using Lasso.\n",
    "We have obtained 65% Accuracy using LinearRegression.\n",
    "\n",
    "\n"
   ]
  },
  {
   "cell_type": "markdown",
   "metadata": {},
   "source": [
    "# Conclusion"
   ]
  },
  {
   "cell_type": "markdown",
   "metadata": {},
   "source": [
    "We have developed model to predict car price problem.\n",
    "\n",
    "First, we made the detailed exploratory analysis.\n",
    "\n",
    "We have decided which metric to use.\n",
    "We analyzed both target and features in detail.\n",
    "We transform categorical variables into numeric so we can use them in the model.\n",
    "We transform numerical variables to reduce skewness and get close to normal distribution.\n",
    "We looked at the results of the each model and selected the best one"
   ]
  },
  {
   "cell_type": "markdown",
   "metadata": {},
   "source": [
    "# FUTURE WORKS\n",
    "Keeping the current model as a baseline, we intend to use some advanced techniques algorithms to predict car prices as our future work."
   ]
  },
  {
   "cell_type": "code",
   "execution_count": null,
   "metadata": {},
   "outputs": [],
   "source": []
  }
 ],
 "metadata": {
  "kernelspec": {
   "display_name": "Python 3",
   "language": "python",
   "name": "python3"
  },
  "language_info": {
   "codemirror_mode": {
    "name": "ipython",
    "version": 3
   },
   "file_extension": ".py",
   "mimetype": "text/x-python",
   "name": "python",
   "nbconvert_exporter": "python",
   "pygments_lexer": "ipython3",
   "version": "3.8.8"
  },
  "papermill": {
   "duration": 355.14413,
   "end_time": "2020-08-12T08:51:07.330610",
   "environment_variables": {},
   "exception": null,
   "input_path": "__notebook__.ipynb",
   "output_path": "__notebook__.ipynb",
   "parameters": {},
   "start_time": "2020-08-12T08:45:12.186480",
   "version": "2.1.0"
  }
 },
 "nbformat": 4,
 "nbformat_minor": 4
}
